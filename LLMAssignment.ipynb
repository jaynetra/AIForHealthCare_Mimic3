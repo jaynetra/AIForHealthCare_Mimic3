{
  "nbformat": 4,
  "nbformat_minor": 0,
  "metadata": {
    "colab": {
      "provenance": [],
      "authorship_tag": "ABX9TyM+XL+cEn2BIVQqiktueJEj",
      "include_colab_link": true
    },
    "kernelspec": {
      "name": "python3",
      "display_name": "Python 3"
    },
    "language_info": {
      "name": "python"
    },
    "widgets": {
      "application/vnd.jupyter.widget-state+json": {
        "f5f21fd013a34a559e39df50ef812b9e": {
          "model_module": "@jupyter-widgets/controls",
          "model_name": "HBoxModel",
          "model_module_version": "1.5.0",
          "state": {
            "_dom_classes": [],
            "_model_module": "@jupyter-widgets/controls",
            "_model_module_version": "1.5.0",
            "_model_name": "HBoxModel",
            "_view_count": null,
            "_view_module": "@jupyter-widgets/controls",
            "_view_module_version": "1.5.0",
            "_view_name": "HBoxView",
            "box_style": "",
            "children": [
              "IPY_MODEL_814a8ecdc7d7462091640afd0c920ca4",
              "IPY_MODEL_a68f92b86a8a49dabb4e1927a0e7f63a",
              "IPY_MODEL_b189a09a6a4b4ca99d4fc044c545bcfd"
            ],
            "layout": "IPY_MODEL_99cb31fa92c943c38c653d2aee8e0421"
          }
        },
        "814a8ecdc7d7462091640afd0c920ca4": {
          "model_module": "@jupyter-widgets/controls",
          "model_name": "HTMLModel",
          "model_module_version": "1.5.0",
          "state": {
            "_dom_classes": [],
            "_model_module": "@jupyter-widgets/controls",
            "_model_module_version": "1.5.0",
            "_model_name": "HTMLModel",
            "_view_count": null,
            "_view_module": "@jupyter-widgets/controls",
            "_view_module_version": "1.5.0",
            "_view_name": "HTMLView",
            "description": "",
            "description_tooltip": null,
            "layout": "IPY_MODEL_3463001d1d684c259ee7990e11cda8e2",
            "placeholder": "​",
            "style": "IPY_MODEL_43ab6f1c6cc44639b52777f2b83d270d",
            "value": "README.md: 100%"
          }
        },
        "a68f92b86a8a49dabb4e1927a0e7f63a": {
          "model_module": "@jupyter-widgets/controls",
          "model_name": "FloatProgressModel",
          "model_module_version": "1.5.0",
          "state": {
            "_dom_classes": [],
            "_model_module": "@jupyter-widgets/controls",
            "_model_module_version": "1.5.0",
            "_model_name": "FloatProgressModel",
            "_view_count": null,
            "_view_module": "@jupyter-widgets/controls",
            "_view_module_version": "1.5.0",
            "_view_name": "ProgressView",
            "bar_style": "success",
            "description": "",
            "description_tooltip": null,
            "layout": "IPY_MODEL_b5a4e5baef664040927b12395653617c",
            "max": 3072,
            "min": 0,
            "orientation": "horizontal",
            "style": "IPY_MODEL_a0c7878ce53544c68cc00f92f424cb8e",
            "value": 3072
          }
        },
        "b189a09a6a4b4ca99d4fc044c545bcfd": {
          "model_module": "@jupyter-widgets/controls",
          "model_name": "HTMLModel",
          "model_module_version": "1.5.0",
          "state": {
            "_dom_classes": [],
            "_model_module": "@jupyter-widgets/controls",
            "_model_module_version": "1.5.0",
            "_model_name": "HTMLModel",
            "_view_count": null,
            "_view_module": "@jupyter-widgets/controls",
            "_view_module_version": "1.5.0",
            "_view_name": "HTMLView",
            "description": "",
            "description_tooltip": null,
            "layout": "IPY_MODEL_de50ae50cdb24dd0bcd5263706d6f062",
            "placeholder": "​",
            "style": "IPY_MODEL_4cc28488fae241fdbf6ed304e832c7ae",
            "value": " 3.07k/3.07k [00:00&lt;00:00, 76.4kB/s]"
          }
        },
        "99cb31fa92c943c38c653d2aee8e0421": {
          "model_module": "@jupyter-widgets/base",
          "model_name": "LayoutModel",
          "model_module_version": "1.2.0",
          "state": {
            "_model_module": "@jupyter-widgets/base",
            "_model_module_version": "1.2.0",
            "_model_name": "LayoutModel",
            "_view_count": null,
            "_view_module": "@jupyter-widgets/base",
            "_view_module_version": "1.2.0",
            "_view_name": "LayoutView",
            "align_content": null,
            "align_items": null,
            "align_self": null,
            "border": null,
            "bottom": null,
            "display": null,
            "flex": null,
            "flex_flow": null,
            "grid_area": null,
            "grid_auto_columns": null,
            "grid_auto_flow": null,
            "grid_auto_rows": null,
            "grid_column": null,
            "grid_gap": null,
            "grid_row": null,
            "grid_template_areas": null,
            "grid_template_columns": null,
            "grid_template_rows": null,
            "height": null,
            "justify_content": null,
            "justify_items": null,
            "left": null,
            "margin": null,
            "max_height": null,
            "max_width": null,
            "min_height": null,
            "min_width": null,
            "object_fit": null,
            "object_position": null,
            "order": null,
            "overflow": null,
            "overflow_x": null,
            "overflow_y": null,
            "padding": null,
            "right": null,
            "top": null,
            "visibility": null,
            "width": null
          }
        },
        "3463001d1d684c259ee7990e11cda8e2": {
          "model_module": "@jupyter-widgets/base",
          "model_name": "LayoutModel",
          "model_module_version": "1.2.0",
          "state": {
            "_model_module": "@jupyter-widgets/base",
            "_model_module_version": "1.2.0",
            "_model_name": "LayoutModel",
            "_view_count": null,
            "_view_module": "@jupyter-widgets/base",
            "_view_module_version": "1.2.0",
            "_view_name": "LayoutView",
            "align_content": null,
            "align_items": null,
            "align_self": null,
            "border": null,
            "bottom": null,
            "display": null,
            "flex": null,
            "flex_flow": null,
            "grid_area": null,
            "grid_auto_columns": null,
            "grid_auto_flow": null,
            "grid_auto_rows": null,
            "grid_column": null,
            "grid_gap": null,
            "grid_row": null,
            "grid_template_areas": null,
            "grid_template_columns": null,
            "grid_template_rows": null,
            "height": null,
            "justify_content": null,
            "justify_items": null,
            "left": null,
            "margin": null,
            "max_height": null,
            "max_width": null,
            "min_height": null,
            "min_width": null,
            "object_fit": null,
            "object_position": null,
            "order": null,
            "overflow": null,
            "overflow_x": null,
            "overflow_y": null,
            "padding": null,
            "right": null,
            "top": null,
            "visibility": null,
            "width": null
          }
        },
        "43ab6f1c6cc44639b52777f2b83d270d": {
          "model_module": "@jupyter-widgets/controls",
          "model_name": "DescriptionStyleModel",
          "model_module_version": "1.5.0",
          "state": {
            "_model_module": "@jupyter-widgets/controls",
            "_model_module_version": "1.5.0",
            "_model_name": "DescriptionStyleModel",
            "_view_count": null,
            "_view_module": "@jupyter-widgets/base",
            "_view_module_version": "1.2.0",
            "_view_name": "StyleView",
            "description_width": ""
          }
        },
        "b5a4e5baef664040927b12395653617c": {
          "model_module": "@jupyter-widgets/base",
          "model_name": "LayoutModel",
          "model_module_version": "1.2.0",
          "state": {
            "_model_module": "@jupyter-widgets/base",
            "_model_module_version": "1.2.0",
            "_model_name": "LayoutModel",
            "_view_count": null,
            "_view_module": "@jupyter-widgets/base",
            "_view_module_version": "1.2.0",
            "_view_name": "LayoutView",
            "align_content": null,
            "align_items": null,
            "align_self": null,
            "border": null,
            "bottom": null,
            "display": null,
            "flex": null,
            "flex_flow": null,
            "grid_area": null,
            "grid_auto_columns": null,
            "grid_auto_flow": null,
            "grid_auto_rows": null,
            "grid_column": null,
            "grid_gap": null,
            "grid_row": null,
            "grid_template_areas": null,
            "grid_template_columns": null,
            "grid_template_rows": null,
            "height": null,
            "justify_content": null,
            "justify_items": null,
            "left": null,
            "margin": null,
            "max_height": null,
            "max_width": null,
            "min_height": null,
            "min_width": null,
            "object_fit": null,
            "object_position": null,
            "order": null,
            "overflow": null,
            "overflow_x": null,
            "overflow_y": null,
            "padding": null,
            "right": null,
            "top": null,
            "visibility": null,
            "width": null
          }
        },
        "a0c7878ce53544c68cc00f92f424cb8e": {
          "model_module": "@jupyter-widgets/controls",
          "model_name": "ProgressStyleModel",
          "model_module_version": "1.5.0",
          "state": {
            "_model_module": "@jupyter-widgets/controls",
            "_model_module_version": "1.5.0",
            "_model_name": "ProgressStyleModel",
            "_view_count": null,
            "_view_module": "@jupyter-widgets/base",
            "_view_module_version": "1.2.0",
            "_view_name": "StyleView",
            "bar_color": null,
            "description_width": ""
          }
        },
        "de50ae50cdb24dd0bcd5263706d6f062": {
          "model_module": "@jupyter-widgets/base",
          "model_name": "LayoutModel",
          "model_module_version": "1.2.0",
          "state": {
            "_model_module": "@jupyter-widgets/base",
            "_model_module_version": "1.2.0",
            "_model_name": "LayoutModel",
            "_view_count": null,
            "_view_module": "@jupyter-widgets/base",
            "_view_module_version": "1.2.0",
            "_view_name": "LayoutView",
            "align_content": null,
            "align_items": null,
            "align_self": null,
            "border": null,
            "bottom": null,
            "display": null,
            "flex": null,
            "flex_flow": null,
            "grid_area": null,
            "grid_auto_columns": null,
            "grid_auto_flow": null,
            "grid_auto_rows": null,
            "grid_column": null,
            "grid_gap": null,
            "grid_row": null,
            "grid_template_areas": null,
            "grid_template_columns": null,
            "grid_template_rows": null,
            "height": null,
            "justify_content": null,
            "justify_items": null,
            "left": null,
            "margin": null,
            "max_height": null,
            "max_width": null,
            "min_height": null,
            "min_width": null,
            "object_fit": null,
            "object_position": null,
            "order": null,
            "overflow": null,
            "overflow_x": null,
            "overflow_y": null,
            "padding": null,
            "right": null,
            "top": null,
            "visibility": null,
            "width": null
          }
        },
        "4cc28488fae241fdbf6ed304e832c7ae": {
          "model_module": "@jupyter-widgets/controls",
          "model_name": "DescriptionStyleModel",
          "model_module_version": "1.5.0",
          "state": {
            "_model_module": "@jupyter-widgets/controls",
            "_model_module_version": "1.5.0",
            "_model_name": "DescriptionStyleModel",
            "_view_count": null,
            "_view_module": "@jupyter-widgets/base",
            "_view_module_version": "1.2.0",
            "_view_name": "StyleView",
            "description_width": ""
          }
        },
        "1da073ea2ed94b7f97da3297144e361a": {
          "model_module": "@jupyter-widgets/controls",
          "model_name": "HBoxModel",
          "model_module_version": "1.5.0",
          "state": {
            "_dom_classes": [],
            "_model_module": "@jupyter-widgets/controls",
            "_model_module_version": "1.5.0",
            "_model_name": "HBoxModel",
            "_view_count": null,
            "_view_module": "@jupyter-widgets/controls",
            "_view_module_version": "1.5.0",
            "_view_name": "HBoxView",
            "box_style": "",
            "children": [
              "IPY_MODEL_91f8a5a02e4d4e6186f9bad320f343a5",
              "IPY_MODEL_7d6345da6e04431092467ebf819c4cf0",
              "IPY_MODEL_ff91a11b65c14f82a336c82552f31c0a"
            ],
            "layout": "IPY_MODEL_021071d0b2c74b59bf13f64f771daeaf"
          }
        },
        "91f8a5a02e4d4e6186f9bad320f343a5": {
          "model_module": "@jupyter-widgets/controls",
          "model_name": "HTMLModel",
          "model_module_version": "1.5.0",
          "state": {
            "_dom_classes": [],
            "_model_module": "@jupyter-widgets/controls",
            "_model_module_version": "1.5.0",
            "_model_name": "HTMLModel",
            "_view_count": null,
            "_view_module": "@jupyter-widgets/controls",
            "_view_module_version": "1.5.0",
            "_view_name": "HTMLView",
            "description": "",
            "description_tooltip": null,
            "layout": "IPY_MODEL_6222ba16df6c4059b106a0cbb34cb57c",
            "placeholder": "​",
            "style": "IPY_MODEL_02df19b847ee4fac8d05e1523e1ca559",
            "value": "synthetic.csv: 100%"
          }
        },
        "7d6345da6e04431092467ebf819c4cf0": {
          "model_module": "@jupyter-widgets/controls",
          "model_name": "FloatProgressModel",
          "model_module_version": "1.5.0",
          "state": {
            "_dom_classes": [],
            "_model_module": "@jupyter-widgets/controls",
            "_model_module_version": "1.5.0",
            "_model_name": "FloatProgressModel",
            "_view_count": null,
            "_view_module": "@jupyter-widgets/controls",
            "_view_module_version": "1.5.0",
            "_view_name": "ProgressView",
            "bar_style": "success",
            "description": "",
            "description_tooltip": null,
            "layout": "IPY_MODEL_b43765ed25c24a13997e22389b4d1ac3",
            "max": 401793563,
            "min": 0,
            "orientation": "horizontal",
            "style": "IPY_MODEL_2a552f1ef830436c90c4d24ee4d197aa",
            "value": 401793563
          }
        },
        "ff91a11b65c14f82a336c82552f31c0a": {
          "model_module": "@jupyter-widgets/controls",
          "model_name": "HTMLModel",
          "model_module_version": "1.5.0",
          "state": {
            "_dom_classes": [],
            "_model_module": "@jupyter-widgets/controls",
            "_model_module_version": "1.5.0",
            "_model_name": "HTMLModel",
            "_view_count": null,
            "_view_module": "@jupyter-widgets/controls",
            "_view_module_version": "1.5.0",
            "_view_name": "HTMLView",
            "description": "",
            "description_tooltip": null,
            "layout": "IPY_MODEL_5264dae932fd4813958ba4d18f88581f",
            "placeholder": "​",
            "style": "IPY_MODEL_b49b879845084059b5d9a43a4dc2b80f",
            "value": " 402M/402M [00:05&lt;00:00, 76.6MB/s]"
          }
        },
        "021071d0b2c74b59bf13f64f771daeaf": {
          "model_module": "@jupyter-widgets/base",
          "model_name": "LayoutModel",
          "model_module_version": "1.2.0",
          "state": {
            "_model_module": "@jupyter-widgets/base",
            "_model_module_version": "1.2.0",
            "_model_name": "LayoutModel",
            "_view_count": null,
            "_view_module": "@jupyter-widgets/base",
            "_view_module_version": "1.2.0",
            "_view_name": "LayoutView",
            "align_content": null,
            "align_items": null,
            "align_self": null,
            "border": null,
            "bottom": null,
            "display": null,
            "flex": null,
            "flex_flow": null,
            "grid_area": null,
            "grid_auto_columns": null,
            "grid_auto_flow": null,
            "grid_auto_rows": null,
            "grid_column": null,
            "grid_gap": null,
            "grid_row": null,
            "grid_template_areas": null,
            "grid_template_columns": null,
            "grid_template_rows": null,
            "height": null,
            "justify_content": null,
            "justify_items": null,
            "left": null,
            "margin": null,
            "max_height": null,
            "max_width": null,
            "min_height": null,
            "min_width": null,
            "object_fit": null,
            "object_position": null,
            "order": null,
            "overflow": null,
            "overflow_x": null,
            "overflow_y": null,
            "padding": null,
            "right": null,
            "top": null,
            "visibility": null,
            "width": null
          }
        },
        "6222ba16df6c4059b106a0cbb34cb57c": {
          "model_module": "@jupyter-widgets/base",
          "model_name": "LayoutModel",
          "model_module_version": "1.2.0",
          "state": {
            "_model_module": "@jupyter-widgets/base",
            "_model_module_version": "1.2.0",
            "_model_name": "LayoutModel",
            "_view_count": null,
            "_view_module": "@jupyter-widgets/base",
            "_view_module_version": "1.2.0",
            "_view_name": "LayoutView",
            "align_content": null,
            "align_items": null,
            "align_self": null,
            "border": null,
            "bottom": null,
            "display": null,
            "flex": null,
            "flex_flow": null,
            "grid_area": null,
            "grid_auto_columns": null,
            "grid_auto_flow": null,
            "grid_auto_rows": null,
            "grid_column": null,
            "grid_gap": null,
            "grid_row": null,
            "grid_template_areas": null,
            "grid_template_columns": null,
            "grid_template_rows": null,
            "height": null,
            "justify_content": null,
            "justify_items": null,
            "left": null,
            "margin": null,
            "max_height": null,
            "max_width": null,
            "min_height": null,
            "min_width": null,
            "object_fit": null,
            "object_position": null,
            "order": null,
            "overflow": null,
            "overflow_x": null,
            "overflow_y": null,
            "padding": null,
            "right": null,
            "top": null,
            "visibility": null,
            "width": null
          }
        },
        "02df19b847ee4fac8d05e1523e1ca559": {
          "model_module": "@jupyter-widgets/controls",
          "model_name": "DescriptionStyleModel",
          "model_module_version": "1.5.0",
          "state": {
            "_model_module": "@jupyter-widgets/controls",
            "_model_module_version": "1.5.0",
            "_model_name": "DescriptionStyleModel",
            "_view_count": null,
            "_view_module": "@jupyter-widgets/base",
            "_view_module_version": "1.2.0",
            "_view_name": "StyleView",
            "description_width": ""
          }
        },
        "b43765ed25c24a13997e22389b4d1ac3": {
          "model_module": "@jupyter-widgets/base",
          "model_name": "LayoutModel",
          "model_module_version": "1.2.0",
          "state": {
            "_model_module": "@jupyter-widgets/base",
            "_model_module_version": "1.2.0",
            "_model_name": "LayoutModel",
            "_view_count": null,
            "_view_module": "@jupyter-widgets/base",
            "_view_module_version": "1.2.0",
            "_view_name": "LayoutView",
            "align_content": null,
            "align_items": null,
            "align_self": null,
            "border": null,
            "bottom": null,
            "display": null,
            "flex": null,
            "flex_flow": null,
            "grid_area": null,
            "grid_auto_columns": null,
            "grid_auto_flow": null,
            "grid_auto_rows": null,
            "grid_column": null,
            "grid_gap": null,
            "grid_row": null,
            "grid_template_areas": null,
            "grid_template_columns": null,
            "grid_template_rows": null,
            "height": null,
            "justify_content": null,
            "justify_items": null,
            "left": null,
            "margin": null,
            "max_height": null,
            "max_width": null,
            "min_height": null,
            "min_width": null,
            "object_fit": null,
            "object_position": null,
            "order": null,
            "overflow": null,
            "overflow_x": null,
            "overflow_y": null,
            "padding": null,
            "right": null,
            "top": null,
            "visibility": null,
            "width": null
          }
        },
        "2a552f1ef830436c90c4d24ee4d197aa": {
          "model_module": "@jupyter-widgets/controls",
          "model_name": "ProgressStyleModel",
          "model_module_version": "1.5.0",
          "state": {
            "_model_module": "@jupyter-widgets/controls",
            "_model_module_version": "1.5.0",
            "_model_name": "ProgressStyleModel",
            "_view_count": null,
            "_view_module": "@jupyter-widgets/base",
            "_view_module_version": "1.2.0",
            "_view_name": "StyleView",
            "bar_color": null,
            "description_width": ""
          }
        },
        "5264dae932fd4813958ba4d18f88581f": {
          "model_module": "@jupyter-widgets/base",
          "model_name": "LayoutModel",
          "model_module_version": "1.2.0",
          "state": {
            "_model_module": "@jupyter-widgets/base",
            "_model_module_version": "1.2.0",
            "_model_name": "LayoutModel",
            "_view_count": null,
            "_view_module": "@jupyter-widgets/base",
            "_view_module_version": "1.2.0",
            "_view_name": "LayoutView",
            "align_content": null,
            "align_items": null,
            "align_self": null,
            "border": null,
            "bottom": null,
            "display": null,
            "flex": null,
            "flex_flow": null,
            "grid_area": null,
            "grid_auto_columns": null,
            "grid_auto_flow": null,
            "grid_auto_rows": null,
            "grid_column": null,
            "grid_gap": null,
            "grid_row": null,
            "grid_template_areas": null,
            "grid_template_columns": null,
            "grid_template_rows": null,
            "height": null,
            "justify_content": null,
            "justify_items": null,
            "left": null,
            "margin": null,
            "max_height": null,
            "max_width": null,
            "min_height": null,
            "min_width": null,
            "object_fit": null,
            "object_position": null,
            "order": null,
            "overflow": null,
            "overflow_x": null,
            "overflow_y": null,
            "padding": null,
            "right": null,
            "top": null,
            "visibility": null,
            "width": null
          }
        },
        "b49b879845084059b5d9a43a4dc2b80f": {
          "model_module": "@jupyter-widgets/controls",
          "model_name": "DescriptionStyleModel",
          "model_module_version": "1.5.0",
          "state": {
            "_model_module": "@jupyter-widgets/controls",
            "_model_module_version": "1.5.0",
            "_model_name": "DescriptionStyleModel",
            "_view_count": null,
            "_view_module": "@jupyter-widgets/base",
            "_view_module_version": "1.2.0",
            "_view_name": "StyleView",
            "description_width": ""
          }
        },
        "6a32ac3daf2e4629a920582e98c742d3": {
          "model_module": "@jupyter-widgets/controls",
          "model_name": "HBoxModel",
          "model_module_version": "1.5.0",
          "state": {
            "_dom_classes": [],
            "_model_module": "@jupyter-widgets/controls",
            "_model_module_version": "1.5.0",
            "_model_name": "HBoxModel",
            "_view_count": null,
            "_view_module": "@jupyter-widgets/controls",
            "_view_module_version": "1.5.0",
            "_view_name": "HBoxView",
            "box_style": "",
            "children": [
              "IPY_MODEL_8ec6e68a36ff41e1b14f75e8f00ecf23",
              "IPY_MODEL_8686f7bc278242eb9ef47b09c324fb2e",
              "IPY_MODEL_4c170c5b552d41cfa4160348eb2511f5"
            ],
            "layout": "IPY_MODEL_0394592a00d041fdba1b44307f41ee48"
          }
        },
        "8ec6e68a36ff41e1b14f75e8f00ecf23": {
          "model_module": "@jupyter-widgets/controls",
          "model_name": "HTMLModel",
          "model_module_version": "1.5.0",
          "state": {
            "_dom_classes": [],
            "_model_module": "@jupyter-widgets/controls",
            "_model_module_version": "1.5.0",
            "_model_name": "HTMLModel",
            "_view_count": null,
            "_view_module": "@jupyter-widgets/controls",
            "_view_module_version": "1.5.0",
            "_view_name": "HTMLView",
            "description": "",
            "description_tooltip": null,
            "layout": "IPY_MODEL_2de799740403429b9f923c791df39e20",
            "placeholder": "​",
            "style": "IPY_MODEL_414dfcb26ffc4908a771a035667798db",
            "value": "Generating train split: 100%"
          }
        },
        "8686f7bc278242eb9ef47b09c324fb2e": {
          "model_module": "@jupyter-widgets/controls",
          "model_name": "FloatProgressModel",
          "model_module_version": "1.5.0",
          "state": {
            "_dom_classes": [],
            "_model_module": "@jupyter-widgets/controls",
            "_model_module_version": "1.5.0",
            "_model_name": "FloatProgressModel",
            "_view_count": null,
            "_view_module": "@jupyter-widgets/controls",
            "_view_module_version": "1.5.0",
            "_view_name": "ProgressView",
            "bar_style": "success",
            "description": "",
            "description_tooltip": null,
            "layout": "IPY_MODEL_052d646e5985473e8d0e5a7cfbf38af4",
            "max": 158114,
            "min": 0,
            "orientation": "horizontal",
            "style": "IPY_MODEL_817f111fa933400ab331ff5688232e1a",
            "value": 158114
          }
        },
        "4c170c5b552d41cfa4160348eb2511f5": {
          "model_module": "@jupyter-widgets/controls",
          "model_name": "HTMLModel",
          "model_module_version": "1.5.0",
          "state": {
            "_dom_classes": [],
            "_model_module": "@jupyter-widgets/controls",
            "_model_module_version": "1.5.0",
            "_model_name": "HTMLModel",
            "_view_count": null,
            "_view_module": "@jupyter-widgets/controls",
            "_view_module_version": "1.5.0",
            "_view_name": "HTMLView",
            "description": "",
            "description_tooltip": null,
            "layout": "IPY_MODEL_582de25657674ddd9bf02a3fe735c270",
            "placeholder": "​",
            "style": "IPY_MODEL_430f641afea1424a875f67ead7daa869",
            "value": " 158114/158114 [00:07&lt;00:00, 23039.72 examples/s]"
          }
        },
        "0394592a00d041fdba1b44307f41ee48": {
          "model_module": "@jupyter-widgets/base",
          "model_name": "LayoutModel",
          "model_module_version": "1.2.0",
          "state": {
            "_model_module": "@jupyter-widgets/base",
            "_model_module_version": "1.2.0",
            "_model_name": "LayoutModel",
            "_view_count": null,
            "_view_module": "@jupyter-widgets/base",
            "_view_module_version": "1.2.0",
            "_view_name": "LayoutView",
            "align_content": null,
            "align_items": null,
            "align_self": null,
            "border": null,
            "bottom": null,
            "display": null,
            "flex": null,
            "flex_flow": null,
            "grid_area": null,
            "grid_auto_columns": null,
            "grid_auto_flow": null,
            "grid_auto_rows": null,
            "grid_column": null,
            "grid_gap": null,
            "grid_row": null,
            "grid_template_areas": null,
            "grid_template_columns": null,
            "grid_template_rows": null,
            "height": null,
            "justify_content": null,
            "justify_items": null,
            "left": null,
            "margin": null,
            "max_height": null,
            "max_width": null,
            "min_height": null,
            "min_width": null,
            "object_fit": null,
            "object_position": null,
            "order": null,
            "overflow": null,
            "overflow_x": null,
            "overflow_y": null,
            "padding": null,
            "right": null,
            "top": null,
            "visibility": null,
            "width": null
          }
        },
        "2de799740403429b9f923c791df39e20": {
          "model_module": "@jupyter-widgets/base",
          "model_name": "LayoutModel",
          "model_module_version": "1.2.0",
          "state": {
            "_model_module": "@jupyter-widgets/base",
            "_model_module_version": "1.2.0",
            "_model_name": "LayoutModel",
            "_view_count": null,
            "_view_module": "@jupyter-widgets/base",
            "_view_module_version": "1.2.0",
            "_view_name": "LayoutView",
            "align_content": null,
            "align_items": null,
            "align_self": null,
            "border": null,
            "bottom": null,
            "display": null,
            "flex": null,
            "flex_flow": null,
            "grid_area": null,
            "grid_auto_columns": null,
            "grid_auto_flow": null,
            "grid_auto_rows": null,
            "grid_column": null,
            "grid_gap": null,
            "grid_row": null,
            "grid_template_areas": null,
            "grid_template_columns": null,
            "grid_template_rows": null,
            "height": null,
            "justify_content": null,
            "justify_items": null,
            "left": null,
            "margin": null,
            "max_height": null,
            "max_width": null,
            "min_height": null,
            "min_width": null,
            "object_fit": null,
            "object_position": null,
            "order": null,
            "overflow": null,
            "overflow_x": null,
            "overflow_y": null,
            "padding": null,
            "right": null,
            "top": null,
            "visibility": null,
            "width": null
          }
        },
        "414dfcb26ffc4908a771a035667798db": {
          "model_module": "@jupyter-widgets/controls",
          "model_name": "DescriptionStyleModel",
          "model_module_version": "1.5.0",
          "state": {
            "_model_module": "@jupyter-widgets/controls",
            "_model_module_version": "1.5.0",
            "_model_name": "DescriptionStyleModel",
            "_view_count": null,
            "_view_module": "@jupyter-widgets/base",
            "_view_module_version": "1.2.0",
            "_view_name": "StyleView",
            "description_width": ""
          }
        },
        "052d646e5985473e8d0e5a7cfbf38af4": {
          "model_module": "@jupyter-widgets/base",
          "model_name": "LayoutModel",
          "model_module_version": "1.2.0",
          "state": {
            "_model_module": "@jupyter-widgets/base",
            "_model_module_version": "1.2.0",
            "_model_name": "LayoutModel",
            "_view_count": null,
            "_view_module": "@jupyter-widgets/base",
            "_view_module_version": "1.2.0",
            "_view_name": "LayoutView",
            "align_content": null,
            "align_items": null,
            "align_self": null,
            "border": null,
            "bottom": null,
            "display": null,
            "flex": null,
            "flex_flow": null,
            "grid_area": null,
            "grid_auto_columns": null,
            "grid_auto_flow": null,
            "grid_auto_rows": null,
            "grid_column": null,
            "grid_gap": null,
            "grid_row": null,
            "grid_template_areas": null,
            "grid_template_columns": null,
            "grid_template_rows": null,
            "height": null,
            "justify_content": null,
            "justify_items": null,
            "left": null,
            "margin": null,
            "max_height": null,
            "max_width": null,
            "min_height": null,
            "min_width": null,
            "object_fit": null,
            "object_position": null,
            "order": null,
            "overflow": null,
            "overflow_x": null,
            "overflow_y": null,
            "padding": null,
            "right": null,
            "top": null,
            "visibility": null,
            "width": null
          }
        },
        "817f111fa933400ab331ff5688232e1a": {
          "model_module": "@jupyter-widgets/controls",
          "model_name": "ProgressStyleModel",
          "model_module_version": "1.5.0",
          "state": {
            "_model_module": "@jupyter-widgets/controls",
            "_model_module_version": "1.5.0",
            "_model_name": "ProgressStyleModel",
            "_view_count": null,
            "_view_module": "@jupyter-widgets/base",
            "_view_module_version": "1.2.0",
            "_view_name": "StyleView",
            "bar_color": null,
            "description_width": ""
          }
        },
        "582de25657674ddd9bf02a3fe735c270": {
          "model_module": "@jupyter-widgets/base",
          "model_name": "LayoutModel",
          "model_module_version": "1.2.0",
          "state": {
            "_model_module": "@jupyter-widgets/base",
            "_model_module_version": "1.2.0",
            "_model_name": "LayoutModel",
            "_view_count": null,
            "_view_module": "@jupyter-widgets/base",
            "_view_module_version": "1.2.0",
            "_view_name": "LayoutView",
            "align_content": null,
            "align_items": null,
            "align_self": null,
            "border": null,
            "bottom": null,
            "display": null,
            "flex": null,
            "flex_flow": null,
            "grid_area": null,
            "grid_auto_columns": null,
            "grid_auto_flow": null,
            "grid_auto_rows": null,
            "grid_column": null,
            "grid_gap": null,
            "grid_row": null,
            "grid_template_areas": null,
            "grid_template_columns": null,
            "grid_template_rows": null,
            "height": null,
            "justify_content": null,
            "justify_items": null,
            "left": null,
            "margin": null,
            "max_height": null,
            "max_width": null,
            "min_height": null,
            "min_width": null,
            "object_fit": null,
            "object_position": null,
            "order": null,
            "overflow": null,
            "overflow_x": null,
            "overflow_y": null,
            "padding": null,
            "right": null,
            "top": null,
            "visibility": null,
            "width": null
          }
        },
        "430f641afea1424a875f67ead7daa869": {
          "model_module": "@jupyter-widgets/controls",
          "model_name": "DescriptionStyleModel",
          "model_module_version": "1.5.0",
          "state": {
            "_model_module": "@jupyter-widgets/controls",
            "_model_module_version": "1.5.0",
            "_model_name": "DescriptionStyleModel",
            "_view_count": null,
            "_view_module": "@jupyter-widgets/base",
            "_view_module_version": "1.2.0",
            "_view_name": "StyleView",
            "description_width": ""
          }
        }
      }
    }
  },
  "cells": [
    {
      "cell_type": "markdown",
      "metadata": {
        "id": "view-in-github",
        "colab_type": "text"
      },
      "source": [
        "<a href=\"https://colab.research.google.com/github/jaynetra/AIForHealthCare_Mimic3/blob/main/LLMAssignment.ipynb\" target=\"_parent\"><img src=\"https://colab.research.google.com/assets/colab-badge.svg\" alt=\"Open In Colab\"/></a>"
      ]
    },
    {
      "cell_type": "markdown",
      "source": [],
      "metadata": {
        "id": "TiSgqTJPRo4s"
      }
    },
    {
      "cell_type": "markdown",
      "source": [
        "## Medical Note Summarization with Gemini and Prompt Engineering\n",
        "\n",
        "This project aims to develop a robust system for summarizing medical notes using Google\n",
        "Gemini models and advanced prompt engineering techniques.\n",
        "By leveraging synthetic data and an iterative refinement process,\n",
        "the project will deliver high-quality, concise summaries of medical records,\n",
        "enhancing accessibility and understanding of patient information.\n",
        "\n",
        "**Key Features**\n",
        "\n",
        "* **Prompt Engineering:** Employs iterative prompt refinement to guide the model towards producing accurate and informative summaries.\n",
        "\n",
        "* **Synthetic Data:** Uses synthetic medical data from Hugging Face to train and evaluate the system, ensuring privacy and data security.\n",
        "\n",
        "**Workflow:**\n",
        "\n",
        "1. **Data Acquisition:** Load synthetic medical data from Hugging Face Datasets.\n",
        "\n",
        "4. **Iterative Refinement:**  Continuously evaluate the generated summaries and refine the prompts based on performance analysis.\n",
        "\n",
        "**TODO**\n",
        "* **Streamlit Integration:** Deploy the trained model and prompt store within a Streamlit application, enabling users to interact with the system.\n",
        "\n",
        "\n",
        "* **Interactive Interface:** Provides a user-friendly Streamlit application for querying the model with medical notes and viewing generated summaries."
      ],
      "metadata": {
        "id": "HZV_8gjRTMrI"
      }
    },
    {
      "cell_type": "markdown",
      "source": [],
      "metadata": {
        "id": "zvxm8UI9TFvI"
      }
    },
    {
      "cell_type": "code",
      "source": [
        "# pip installs\n",
        "!pip install datasets\n",
        "!pip install huggingface_hub"
      ],
      "metadata": {
        "colab": {
          "base_uri": "https://localhost:8080/"
        },
        "id": "LS5Jpf0MHZze",
        "outputId": "f2b61a51-68f6-4dee-d67f-190fbd697088"
      },
      "execution_count": 5,
      "outputs": [
        {
          "output_type": "stream",
          "name": "stdout",
          "text": [
            "Collecting datasets\n",
            "  Downloading datasets-3.5.0-py3-none-any.whl.metadata (19 kB)\n",
            "Requirement already satisfied: filelock in /usr/local/lib/python3.11/dist-packages (from datasets) (3.18.0)\n",
            "Requirement already satisfied: numpy>=1.17 in /usr/local/lib/python3.11/dist-packages (from datasets) (2.0.2)\n",
            "Requirement already satisfied: pyarrow>=15.0.0 in /usr/local/lib/python3.11/dist-packages (from datasets) (18.1.0)\n",
            "Collecting dill<0.3.9,>=0.3.0 (from datasets)\n",
            "  Downloading dill-0.3.8-py3-none-any.whl.metadata (10 kB)\n",
            "Requirement already satisfied: pandas in /usr/local/lib/python3.11/dist-packages (from datasets) (2.2.2)\n",
            "Requirement already satisfied: requests>=2.32.2 in /usr/local/lib/python3.11/dist-packages (from datasets) (2.32.3)\n",
            "Requirement already satisfied: tqdm>=4.66.3 in /usr/local/lib/python3.11/dist-packages (from datasets) (4.67.1)\n",
            "Collecting xxhash (from datasets)\n",
            "  Downloading xxhash-3.5.0-cp311-cp311-manylinux_2_17_x86_64.manylinux2014_x86_64.whl.metadata (12 kB)\n",
            "Collecting multiprocess<0.70.17 (from datasets)\n",
            "  Downloading multiprocess-0.70.16-py311-none-any.whl.metadata (7.2 kB)\n",
            "Collecting fsspec<=2024.12.0,>=2023.1.0 (from fsspec[http]<=2024.12.0,>=2023.1.0->datasets)\n",
            "  Downloading fsspec-2024.12.0-py3-none-any.whl.metadata (11 kB)\n",
            "Requirement already satisfied: aiohttp in /usr/local/lib/python3.11/dist-packages (from datasets) (3.11.15)\n",
            "Requirement already satisfied: huggingface-hub>=0.24.0 in /usr/local/lib/python3.11/dist-packages (from datasets) (0.30.1)\n",
            "Requirement already satisfied: packaging in /usr/local/lib/python3.11/dist-packages (from datasets) (24.2)\n",
            "Requirement already satisfied: pyyaml>=5.1 in /usr/local/lib/python3.11/dist-packages (from datasets) (6.0.2)\n",
            "Requirement already satisfied: aiohappyeyeballs>=2.3.0 in /usr/local/lib/python3.11/dist-packages (from aiohttp->datasets) (2.6.1)\n",
            "Requirement already satisfied: aiosignal>=1.1.2 in /usr/local/lib/python3.11/dist-packages (from aiohttp->datasets) (1.3.2)\n",
            "Requirement already satisfied: attrs>=17.3.0 in /usr/local/lib/python3.11/dist-packages (from aiohttp->datasets) (25.3.0)\n",
            "Requirement already satisfied: frozenlist>=1.1.1 in /usr/local/lib/python3.11/dist-packages (from aiohttp->datasets) (1.5.0)\n",
            "Requirement already satisfied: multidict<7.0,>=4.5 in /usr/local/lib/python3.11/dist-packages (from aiohttp->datasets) (6.3.2)\n",
            "Requirement already satisfied: propcache>=0.2.0 in /usr/local/lib/python3.11/dist-packages (from aiohttp->datasets) (0.3.1)\n",
            "Requirement already satisfied: yarl<2.0,>=1.17.0 in /usr/local/lib/python3.11/dist-packages (from aiohttp->datasets) (1.18.3)\n",
            "Requirement already satisfied: typing-extensions>=3.7.4.3 in /usr/local/lib/python3.11/dist-packages (from huggingface-hub>=0.24.0->datasets) (4.13.1)\n",
            "Requirement already satisfied: charset-normalizer<4,>=2 in /usr/local/lib/python3.11/dist-packages (from requests>=2.32.2->datasets) (3.4.1)\n",
            "Requirement already satisfied: idna<4,>=2.5 in /usr/local/lib/python3.11/dist-packages (from requests>=2.32.2->datasets) (3.10)\n",
            "Requirement already satisfied: urllib3<3,>=1.21.1 in /usr/local/lib/python3.11/dist-packages (from requests>=2.32.2->datasets) (2.3.0)\n",
            "Requirement already satisfied: certifi>=2017.4.17 in /usr/local/lib/python3.11/dist-packages (from requests>=2.32.2->datasets) (2025.1.31)\n",
            "Requirement already satisfied: python-dateutil>=2.8.2 in /usr/local/lib/python3.11/dist-packages (from pandas->datasets) (2.8.2)\n",
            "Requirement already satisfied: pytz>=2020.1 in /usr/local/lib/python3.11/dist-packages (from pandas->datasets) (2025.2)\n",
            "Requirement already satisfied: tzdata>=2022.7 in /usr/local/lib/python3.11/dist-packages (from pandas->datasets) (2025.2)\n",
            "Requirement already satisfied: six>=1.5 in /usr/local/lib/python3.11/dist-packages (from python-dateutil>=2.8.2->pandas->datasets) (1.17.0)\n",
            "Downloading datasets-3.5.0-py3-none-any.whl (491 kB)\n",
            "\u001b[2K   \u001b[90m━━━━━━━━━━━━━━━━━━━━━━━━━━━━━━━━━━━━━━━━\u001b[0m \u001b[32m491.2/491.2 kB\u001b[0m \u001b[31m24.7 MB/s\u001b[0m eta \u001b[36m0:00:00\u001b[0m\n",
            "\u001b[?25hDownloading dill-0.3.8-py3-none-any.whl (116 kB)\n",
            "\u001b[2K   \u001b[90m━━━━━━━━━━━━━━━━━━━━━━━━━━━━━━━━━━━━━━━━\u001b[0m \u001b[32m116.3/116.3 kB\u001b[0m \u001b[31m9.8 MB/s\u001b[0m eta \u001b[36m0:00:00\u001b[0m\n",
            "\u001b[?25hDownloading fsspec-2024.12.0-py3-none-any.whl (183 kB)\n",
            "\u001b[2K   \u001b[90m━━━━━━━━━━━━━━━━━━━━━━━━━━━━━━━━━━━━━━━━\u001b[0m \u001b[32m183.9/183.9 kB\u001b[0m \u001b[31m13.9 MB/s\u001b[0m eta \u001b[36m0:00:00\u001b[0m\n",
            "\u001b[?25hDownloading multiprocess-0.70.16-py311-none-any.whl (143 kB)\n",
            "\u001b[2K   \u001b[90m━━━━━━━━━━━━━━━━━━━━━━━━━━━━━━━━━━━━━━━━\u001b[0m \u001b[32m143.5/143.5 kB\u001b[0m \u001b[31m11.6 MB/s\u001b[0m eta \u001b[36m0:00:00\u001b[0m\n",
            "\u001b[?25hDownloading xxhash-3.5.0-cp311-cp311-manylinux_2_17_x86_64.manylinux2014_x86_64.whl (194 kB)\n",
            "\u001b[2K   \u001b[90m━━━━━━━━━━━━━━━━━━━━━━━━━━━━━━━━━━━━━━━━\u001b[0m \u001b[32m194.8/194.8 kB\u001b[0m \u001b[31m14.8 MB/s\u001b[0m eta \u001b[36m0:00:00\u001b[0m\n",
            "\u001b[?25hInstalling collected packages: xxhash, fsspec, dill, multiprocess, datasets\n",
            "  Attempting uninstall: fsspec\n",
            "    Found existing installation: fsspec 2025.3.2\n",
            "    Uninstalling fsspec-2025.3.2:\n",
            "      Successfully uninstalled fsspec-2025.3.2\n",
            "\u001b[31mERROR: pip's dependency resolver does not currently take into account all the packages that are installed. This behaviour is the source of the following dependency conflicts.\n",
            "torch 2.6.0+cu124 requires nvidia-cublas-cu12==12.4.5.8; platform_system == \"Linux\" and platform_machine == \"x86_64\", but you have nvidia-cublas-cu12 12.5.3.2 which is incompatible.\n",
            "torch 2.6.0+cu124 requires nvidia-cuda-cupti-cu12==12.4.127; platform_system == \"Linux\" and platform_machine == \"x86_64\", but you have nvidia-cuda-cupti-cu12 12.5.82 which is incompatible.\n",
            "torch 2.6.0+cu124 requires nvidia-cuda-nvrtc-cu12==12.4.127; platform_system == \"Linux\" and platform_machine == \"x86_64\", but you have nvidia-cuda-nvrtc-cu12 12.5.82 which is incompatible.\n",
            "torch 2.6.0+cu124 requires nvidia-cuda-runtime-cu12==12.4.127; platform_system == \"Linux\" and platform_machine == \"x86_64\", but you have nvidia-cuda-runtime-cu12 12.5.82 which is incompatible.\n",
            "torch 2.6.0+cu124 requires nvidia-cudnn-cu12==9.1.0.70; platform_system == \"Linux\" and platform_machine == \"x86_64\", but you have nvidia-cudnn-cu12 9.3.0.75 which is incompatible.\n",
            "torch 2.6.0+cu124 requires nvidia-cufft-cu12==11.2.1.3; platform_system == \"Linux\" and platform_machine == \"x86_64\", but you have nvidia-cufft-cu12 11.2.3.61 which is incompatible.\n",
            "torch 2.6.0+cu124 requires nvidia-curand-cu12==10.3.5.147; platform_system == \"Linux\" and platform_machine == \"x86_64\", but you have nvidia-curand-cu12 10.3.6.82 which is incompatible.\n",
            "torch 2.6.0+cu124 requires nvidia-cusolver-cu12==11.6.1.9; platform_system == \"Linux\" and platform_machine == \"x86_64\", but you have nvidia-cusolver-cu12 11.6.3.83 which is incompatible.\n",
            "torch 2.6.0+cu124 requires nvidia-cusparse-cu12==12.3.1.170; platform_system == \"Linux\" and platform_machine == \"x86_64\", but you have nvidia-cusparse-cu12 12.5.1.3 which is incompatible.\n",
            "torch 2.6.0+cu124 requires nvidia-nvjitlink-cu12==12.4.127; platform_system == \"Linux\" and platform_machine == \"x86_64\", but you have nvidia-nvjitlink-cu12 12.5.82 which is incompatible.\n",
            "gcsfs 2025.3.2 requires fsspec==2025.3.2, but you have fsspec 2024.12.0 which is incompatible.\u001b[0m\u001b[31m\n",
            "\u001b[0mSuccessfully installed datasets-3.5.0 dill-0.3.8 fsspec-2024.12.0 multiprocess-0.70.16 xxhash-3.5.0\n",
            "Requirement already satisfied: huggingface_hub in /usr/local/lib/python3.11/dist-packages (0.30.1)\n",
            "Requirement already satisfied: filelock in /usr/local/lib/python3.11/dist-packages (from huggingface_hub) (3.18.0)\n",
            "Requirement already satisfied: fsspec>=2023.5.0 in /usr/local/lib/python3.11/dist-packages (from huggingface_hub) (2024.12.0)\n",
            "Requirement already satisfied: packaging>=20.9 in /usr/local/lib/python3.11/dist-packages (from huggingface_hub) (24.2)\n",
            "Requirement already satisfied: pyyaml>=5.1 in /usr/local/lib/python3.11/dist-packages (from huggingface_hub) (6.0.2)\n",
            "Requirement already satisfied: requests in /usr/local/lib/python3.11/dist-packages (from huggingface_hub) (2.32.3)\n",
            "Requirement already satisfied: tqdm>=4.42.1 in /usr/local/lib/python3.11/dist-packages (from huggingface_hub) (4.67.1)\n",
            "Requirement already satisfied: typing-extensions>=3.7.4.3 in /usr/local/lib/python3.11/dist-packages (from huggingface_hub) (4.13.1)\n",
            "Requirement already satisfied: charset-normalizer<4,>=2 in /usr/local/lib/python3.11/dist-packages (from requests->huggingface_hub) (3.4.1)\n",
            "Requirement already satisfied: idna<4,>=2.5 in /usr/local/lib/python3.11/dist-packages (from requests->huggingface_hub) (3.10)\n",
            "Requirement already satisfied: urllib3<3,>=1.21.1 in /usr/local/lib/python3.11/dist-packages (from requests->huggingface_hub) (2.3.0)\n",
            "Requirement already satisfied: certifi>=2017.4.17 in /usr/local/lib/python3.11/dist-packages (from requests->huggingface_hub) (2025.1.31)\n"
          ]
        }
      ]
    },
    {
      "cell_type": "code",
      "source": [
        "# import packages for models - gemini\n",
        "\n",
        "!pip install -U -q \"google-genai==1.7.0\""
      ],
      "metadata": {
        "colab": {
          "base_uri": "https://localhost:8080/"
        },
        "id": "Of-dKev-ojSa",
        "outputId": "93d1f6e4-52d0-44f9-8fd2-10bc70432fa3"
      },
      "execution_count": 6,
      "outputs": [
        {
          "output_type": "stream",
          "name": "stdout",
          "text": [
            "\u001b[?25l   \u001b[90m━━━━━━━━━━━━━━━━━━━━━━━━━━━━━━━━━━━━━━━━\u001b[0m \u001b[32m0.0/144.7 kB\u001b[0m \u001b[31m?\u001b[0m eta \u001b[36m-:--:--\u001b[0m\r\u001b[2K   \u001b[90m━━━━━━━━━━━━━━━━━━━━━━━━━━━━━━━━━━━━━━━━\u001b[0m \u001b[32m144.7/144.7 kB\u001b[0m \u001b[31m5.3 MB/s\u001b[0m eta \u001b[36m0:00:00\u001b[0m\n",
            "\u001b[?25h"
          ]
        }
      ]
    },
    {
      "cell_type": "markdown",
      "source": [],
      "metadata": {
        "id": "fy0GnGXJFzyn"
      }
    },
    {
      "cell_type": "code",
      "source": [
        "# set up google api key\n",
        "from google.colab import userdata\n",
        "userdata.get('GOOGLE_KEY')\n"
      ],
      "metadata": {
        "id": "z-hT4w0_Gvp9"
      },
      "execution_count": null,
      "outputs": []
    },
    {
      "cell_type": "code",
      "source": [
        "# prompt: get some medical notes from hugging face project\n",
        "\n",
        "from datasets import load_dataset\n",
        "from google.colab import userdata\n",
        "\n",
        "# Load the dataset\n",
        "dataset = load_dataset(\"starmpcc/Asclepius-Synthetic-Clinical-Notes\")\n",
        "\n",
        "# Access the medical notes\n",
        "#medical_notes = dataset['train']['text']\n",
        "\n"
      ],
      "metadata": {
        "id": "vCSp5ttSHCPz",
        "colab": {
          "base_uri": "https://localhost:8080/",
          "height": 113,
          "referenced_widgets": [
            "f5f21fd013a34a559e39df50ef812b9e",
            "814a8ecdc7d7462091640afd0c920ca4",
            "a68f92b86a8a49dabb4e1927a0e7f63a",
            "b189a09a6a4b4ca99d4fc044c545bcfd",
            "99cb31fa92c943c38c653d2aee8e0421",
            "3463001d1d684c259ee7990e11cda8e2",
            "43ab6f1c6cc44639b52777f2b83d270d",
            "b5a4e5baef664040927b12395653617c",
            "a0c7878ce53544c68cc00f92f424cb8e",
            "de50ae50cdb24dd0bcd5263706d6f062",
            "4cc28488fae241fdbf6ed304e832c7ae",
            "1da073ea2ed94b7f97da3297144e361a",
            "91f8a5a02e4d4e6186f9bad320f343a5",
            "7d6345da6e04431092467ebf819c4cf0",
            "ff91a11b65c14f82a336c82552f31c0a",
            "021071d0b2c74b59bf13f64f771daeaf",
            "6222ba16df6c4059b106a0cbb34cb57c",
            "02df19b847ee4fac8d05e1523e1ca559",
            "b43765ed25c24a13997e22389b4d1ac3",
            "2a552f1ef830436c90c4d24ee4d197aa",
            "5264dae932fd4813958ba4d18f88581f",
            "b49b879845084059b5d9a43a4dc2b80f",
            "6a32ac3daf2e4629a920582e98c742d3",
            "8ec6e68a36ff41e1b14f75e8f00ecf23",
            "8686f7bc278242eb9ef47b09c324fb2e",
            "4c170c5b552d41cfa4160348eb2511f5",
            "0394592a00d041fdba1b44307f41ee48",
            "2de799740403429b9f923c791df39e20",
            "414dfcb26ffc4908a771a035667798db",
            "052d646e5985473e8d0e5a7cfbf38af4",
            "817f111fa933400ab331ff5688232e1a",
            "582de25657674ddd9bf02a3fe735c270",
            "430f641afea1424a875f67ead7daa869"
          ]
        },
        "outputId": "903a237f-8db2-4813-f516-e61e9f4a0d79"
      },
      "execution_count": 7,
      "outputs": [
        {
          "output_type": "display_data",
          "data": {
            "text/plain": [
              "README.md:   0%|          | 0.00/3.07k [00:00<?, ?B/s]"
            ],
            "application/vnd.jupyter.widget-view+json": {
              "version_major": 2,
              "version_minor": 0,
              "model_id": "f5f21fd013a34a559e39df50ef812b9e"
            }
          },
          "metadata": {}
        },
        {
          "output_type": "display_data",
          "data": {
            "text/plain": [
              "synthetic.csv:   0%|          | 0.00/402M [00:00<?, ?B/s]"
            ],
            "application/vnd.jupyter.widget-view+json": {
              "version_major": 2,
              "version_minor": 0,
              "model_id": "1da073ea2ed94b7f97da3297144e361a"
            }
          },
          "metadata": {}
        },
        {
          "output_type": "display_data",
          "data": {
            "text/plain": [
              "Generating train split:   0%|          | 0/158114 [00:00<?, ? examples/s]"
            ],
            "application/vnd.jupyter.widget-view+json": {
              "version_major": 2,
              "version_minor": 0,
              "model_id": "6a32ac3daf2e4629a920582e98c742d3"
            }
          },
          "metadata": {}
        }
      ]
    },
    {
      "cell_type": "code",
      "source": [
        "# Print the first  medical notes\n",
        "noteToProcess = dataset['train'][0]['note']\n"
      ],
      "metadata": {
        "id": "_F_FindZM1z8"
      },
      "execution_count": 8,
      "outputs": []
    },
    {
      "cell_type": "code",
      "source": [
        "print(noteToProcess)"
      ],
      "metadata": {
        "colab": {
          "base_uri": "https://localhost:8080/"
        },
        "id": "15WBqKfgUktb",
        "outputId": "7a204b28-37a4-4b67-85f5-19b7d70a9687"
      },
      "execution_count": 10,
      "outputs": [
        {
          "output_type": "stream",
          "name": "stdout",
          "text": [
            "Discharge Summary:\n",
            "\n",
            "Patient: 60-year-old male with moderate ARDS from COVID-19\n",
            "\n",
            "Hospital Course:\n",
            "\n",
            "The patient was admitted to the hospital with symptoms of fever, dry cough, and dyspnea. During physical therapy on the acute ward, the patient experienced coughing attacks that induced oxygen desaturation and dyspnea with any change of position or deep breathing. To avoid rapid deterioration and respiratory failure, a step-by-step approach was used for position changes. The breathing exercises were adapted to avoid prolonged coughing and oxygen desaturation, and with close monitoring, the patient managed to perform strength and walking exercises at a low level. Exercise progression was low initially but increased daily until hospital discharge to a rehabilitation clinic on day 10.\n",
            "\n",
            "Clinical Outcome:\n",
            "\n",
            "The patient was discharged on day 10 to a rehabilitation clinic making satisfactory progress with all symptoms resolved.\n",
            "\n",
            "Follow-up:\n",
            "\n",
            "The patient will receive follow-up care at the rehabilitation clinic, with regular monitoring of progress and further rehabilitation exercises until full recovery. Any new symptoms or concerns should be reported to the clinic immediately.\n",
            "\n",
            "Overall Impression:\n",
            "\n",
            "The patient responded well to treatment, and with appropriate medical intervention, was able to overcome the difficulties faced during hospitalization for ARDS from COVID-19. The patient's level of care was of a high standard, with all necessary therapy provided and monitoring of progress before discharge.\n"
          ]
        }
      ]
    },
    {
      "cell_type": "code",
      "source": [
        "from google import genai\n",
        "from google.genai import types\n",
        "\n",
        "from IPython.display import HTML, Markdown, display"
      ],
      "metadata": {
        "id": "2OTNH3Imo3LG"
      },
      "execution_count": 11,
      "outputs": []
    },
    {
      "cell_type": "code",
      "source": [
        "from google.api_core import retry\n",
        "\n",
        "\n",
        "is_retriable = lambda e: (isinstance(e, genai.errors.APIError) and e.code in {429, 503})\n",
        "\n",
        "genai.models.Models.generate_content = retry.Retry(\n",
        "    predicate=is_retriable)(genai.models.Models.generate_content)"
      ],
      "metadata": {
        "id": "Bk3S9pNTo7bv"
      },
      "execution_count": 12,
      "outputs": []
    },
    {
      "cell_type": "code",
      "source": [
        "client = genai.Client(api_key=userdata.get('GOOGLE_KEY'))\n",
        "\n"
      ],
      "metadata": {
        "id": "AdfeJGZ3pBDH"
      },
      "execution_count": 13,
      "outputs": []
    },
    {
      "cell_type": "code",
      "source": [
        "# Zero shot prompting\n",
        "model_config = types.GenerateContentConfig(\n",
        "    temperature=0.1,\n",
        "    top_p=1,\n",
        "    max_output_tokens=5,\n",
        ")\n",
        "\n",
        "\n",
        "prompt = \"Summarize the clinical notes\"\n",
        "response = client.models.generate_content(\n",
        "  model=\"gemini-1.5-flash\",\n",
        "  contents=[\n",
        "      types.Part.from_bytes(\n",
        "        data=noteToProcess.encode('utf-8'),\n",
        "        mime_type='text/plain',\n",
        "      ),\n",
        "      prompt])\n",
        "\n",
        "\n",
        "print(response.text)"
      ],
      "metadata": {
        "colab": {
          "base_uri": "https://localhost:8080/"
        },
        "id": "QXU9MHrfphX5",
        "outputId": "3738a792-ed21-451e-e8c2-9c04fbbf3185"
      },
      "execution_count": 14,
      "outputs": [
        {
          "output_type": "stream",
          "name": "stdout",
          "text": [
            "A 60-year-old male with moderate COVID-19-induced ARDS was hospitalized for 10 days.  He presented with fever, dry cough, and dyspnea.  Physical therapy was cautiously implemented due to coughing-induced hypoxemia.  Gradual progress was made in breathing exercises and mobility, culminating in discharge to a rehabilitation clinic where continued care and monitoring will ensure full recovery.  The patient responded well to treatment and achieved satisfactory progress.\n",
            "\n"
          ]
        }
      ]
    },
    {
      "cell_type": "code",
      "source": [
        "# few shot prompt\n",
        "fs_prompt = \"\"\"\n",
        "Parse the notes into a valid JSON\n",
        "example : json\n",
        "{\n",
        "  \"patient\": {\n",
        "    \"age\": 60,\n",
        "    \"sex\": \"male\",\n",
        "    \"diagnosis\": \"Moderate ARDS from COVID-19\"\n",
        "  }\n",
        "\"\"\"\n",
        "response = client.models.generate_content(\n",
        "  model=\"gemini-1.5-flash\",\n",
        "  contents=[\n",
        "      types.Part.from_bytes(\n",
        "        data=noteToProcess.encode('utf-8'),\n",
        "        mime_type='text/plain',\n",
        "      ),\n",
        "      fs_prompt])\n"
      ],
      "metadata": {
        "id": "Pbvenb8usgsA"
      },
      "execution_count": 15,
      "outputs": []
    },
    {
      "cell_type": "code",
      "source": [
        "print(response.text)"
      ],
      "metadata": {
        "colab": {
          "base_uri": "https://localhost:8080/"
        },
        "id": "adwl1ecgt-wp",
        "outputId": "78ce13a1-a8f9-4c40-ae66-7cea0ce2b823"
      },
      "execution_count": 16,
      "outputs": [
        {
          "output_type": "stream",
          "name": "stdout",
          "text": [
            "```json\n",
            "{\n",
            "  \"patient\": {\n",
            "    \"age\": 60,\n",
            "    \"sex\": \"male\",\n",
            "    \"diagnosis\": \"Moderate ARDS from COVID-19\"\n",
            "  },\n",
            "  \"hospitalCourse\": {\n",
            "    \"admissionSymptoms\": [\"fever\", \"dry cough\", \"dyspnea\"],\n",
            "    \"physicalTherapy\": {\n",
            "      \"challenges\": \"coughing attacks inducing oxygen desaturation and dyspnea with position changes or deep breathing\",\n",
            "      \"approach\": \"step-by-step approach for position changes, adapted breathing exercises to avoid prolonged coughing and oxygen desaturation\",\n",
            "      \"exercises\": [\"strength exercises\", \"walking exercises\"],\n",
            "      \"exerciseProgression\": \"low initially, increased daily\"\n",
            "    },\n",
            "    \"lengthOfStay\": \"10 days\"\n",
            "  },\n",
            "  \"clinicalOutcome\": {\n",
            "    \"dischargeLocation\": \"rehabilitation clinic\",\n",
            "    \"progress\": \"satisfactory\",\n",
            "    \"symptoms\": \"resolved\"\n",
            "  },\n",
            "  \"followUp\": {\n",
            "    \"location\": \"rehabilitation clinic\",\n",
            "    \"plan\": \"regular monitoring of progress and further rehabilitation exercises until full recovery\",\n",
            "    \"instructions\": \"report any new symptoms or concerns immediately\"\n",
            "  },\n",
            "  \"overallImpression\": {\n",
            "    \"responseToTreatment\": \"good\",\n",
            "    \"careLevel\": \"high standard\",\n",
            "    \"therapyProvided\": \"all necessary therapy\"\n",
            "  }\n",
            "}\n",
            "```\n",
            "\n"
          ]
        }
      ]
    },
    {
      "cell_type": "code",
      "source": [
        "fs_prompt = \"Parse the notes into a valid JSON and title it Discharge Summary\"\n",
        "response = client.models.generate_content(\n",
        "  model=\"gemini-1.5-flash\",\n",
        "  contents=[\n",
        "      types.Part.from_bytes(\n",
        "        data=noteToProcess.encode('utf-8'),\n",
        "        mime_type='text/plain',\n",
        "      ),\n",
        "      fs_prompt])\n",
        "print(response.text)"
      ],
      "metadata": {
        "colab": {
          "base_uri": "https://localhost:8080/"
        },
        "id": "K4GsDaSFuhwg",
        "outputId": "308c48b0-5546-457b-fa1d-228cc8c2bf1e"
      },
      "execution_count": null,
      "outputs": [
        {
          "output_type": "stream",
          "name": "stdout",
          "text": [
            "```json\n",
            "{\n",
            "  \"Discharge Summary\": {\n",
            "    \"Patient\": {\n",
            "      \"age\": 60,\n",
            "      \"sex\": \"male\",\n",
            "      \"diagnosis\": \"Moderate ARDS from COVID-19\"\n",
            "    },\n",
            "    \"Hospital Course\": {\n",
            "      \"admissionSymptoms\": [\"fever\", \"dry cough\", \"dyspnea\"],\n",
            "      \"physicalTherapyChallenges\": \"Coughing attacks induced oxygen desaturation and dyspnea with position changes or deep breathing.\",\n",
            "      \"treatmentApproach\": \"Step-by-step approach for position changes, adapted breathing exercises to avoid prolonged coughing and oxygen desaturation, close monitoring.\",\n",
            "      \"exerciseProgression\": \"Low initially, increased daily until discharge.\",\n",
            "      \"lengthOfStay\": \"10 days\"\n",
            "    },\n",
            "    \"Clinical Outcome\": {\n",
            "      \"dischargeLocation\": \"Rehabilitation clinic\",\n",
            "      \"dischargeStatus\": \"Satisfactory progress, all symptoms resolved\"\n",
            "    },\n",
            "    \"Follow-up\": {\n",
            "      \"location\": \"Rehabilitation clinic\",\n",
            "      \"plan\": \"Regular monitoring of progress and further rehabilitation exercises until full recovery.\",\n",
            "      \"instructions\": \"Report any new symptoms or concerns immediately to the clinic.\"\n",
            "    },\n",
            "    \"Overall Impression\": {\n",
            "      \"responseToTreatment\": \"Responded well to treatment.\",\n",
            "      \"careLevel\": \"High standard, all necessary therapy provided and progress monitored before discharge.\"\n",
            "    }\n",
            "  }\n",
            "}\n",
            "```\n",
            "\n"
          ]
        }
      ]
    },
    {
      "cell_type": "code",
      "source": [
        "# let us ask some questions\n",
        "qnPrompt = 'What is the major diagnosis for the patient?'\n",
        "response = client.models.generate_content(\n",
        "  model=\"gemini-1.5-flash\",\n",
        "  contents=[\n",
        "      types.Part.from_bytes(\n",
        "        data=noteToProcess.encode('utf-8'),\n",
        "        mime_type='text/plain',\n",
        "      ),\n",
        "      qnPrompt])\n",
        "print(response.text)"
      ],
      "metadata": {
        "colab": {
          "base_uri": "https://localhost:8080/"
        },
        "id": "CQP0PiP4uyaI",
        "outputId": "28c8f0f9-ee14-4793-ec27-1d70f2a33ef0"
      },
      "execution_count": null,
      "outputs": [
        {
          "output_type": "stream",
          "name": "stdout",
          "text": [
            "The major diagnosis is **ARDS (Acute Respiratory Distress Syndrome) secondary to COVID-19**.\n",
            "\n"
          ]
        }
      ]
    },
    {
      "cell_type": "code",
      "source": [
        "# Chain of thought promplt\n",
        "cotPrompt = 'What is the major diagnosis for the patient? Think step by step'\n",
        "response = client.models.generate_content(\n",
        "  model=\"gemini-1.5-flash\",\n",
        "  contents=[\n",
        "      types.Part.from_bytes(\n",
        "        data=noteToProcess.encode('utf-8'),\n",
        "        mime_type='text/plain',\n",
        "      ),\n",
        "      cotPrompt])\n",
        "Markdown(response.text)"
      ],
      "metadata": {
        "colab": {
          "base_uri": "https://localhost:8080/",
          "height": 110
        },
        "id": "3u-wmgBBvLkT",
        "outputId": "cef04c2b-b565-44f3-c03c-57e42a2000f4"
      },
      "execution_count": null,
      "outputs": [
        {
          "output_type": "execute_result",
          "data": {
            "text/plain": [
              "<IPython.core.display.Markdown object>"
            ],
            "text/markdown": "Step 1: Identify the patient's presenting symptoms.  The patient presented with fever, dry cough, and dyspnea.\n\nStep 2: Identify the condition diagnosed. The summary explicitly states the patient had \"moderate ARDS from COVID-19\".\n\nStep 3: Determine the primary diagnosis.  While the patient had COVID-19, the major diagnosis impacting his hospital stay and treatment was **moderate Acute Respiratory Distress Syndrome (ARDS)** secondary to COVID-19.  The ARDS is the primary focus of the treatment and rehabilitation described.\n"
          },
          "metadata": {},
          "execution_count": 15
        }
      ]
    },
    {
      "cell_type": "code",
      "source": [
        "#Thinking mode\n",
        "import io\n",
        "from IPython.display import Markdown, clear_output\n",
        "\n",
        "\n",
        "response = client.models.generate_content_stream(\n",
        "    model='gemini-2.0-flash-thinking-exp',\n",
        "    contents=[\n",
        "      types.Part.from_bytes(\n",
        "        data=noteToProcess.encode('utf-8'),\n",
        "        mime_type='text/plain',\n",
        "      ),\n",
        "      cotPrompt])\n",
        "\n",
        "\n",
        "buf = io.StringIO()\n",
        "for chunk in response:\n",
        "    buf.write(chunk.text)\n",
        "    # Display the response as it is streamed\n",
        "    print(chunk.text, end='')\n",
        "\n",
        "# And then render the finished response as formatted markdown.\n",
        "clear_output()\n",
        "Markdown(buf.getvalue())\n"
      ],
      "metadata": {
        "colab": {
          "base_uri": "https://localhost:8080/",
          "height": 192
        },
        "id": "8plhfhCyvfb7",
        "outputId": "fee322d4-54bd-4f2e-ed27-35af9750869a"
      },
      "execution_count": null,
      "outputs": [
        {
          "output_type": "execute_result",
          "data": {
            "text/plain": [
              "<IPython.core.display.Markdown object>"
            ],
            "text/markdown": "The major diagnosis for the patient is **moderate ARDS from COVID-19**.\n\n**Explanation:**\n\nThe discharge summary explicitly states in the first line: \"Patient: 60-year-old male with moderate ARDS from COVID-19\".  This directly indicates the patient's primary medical condition that led to hospitalization and treatment.\n\n* **ARDS** stands for Acute Respiratory Distress Syndrome, a severe lung condition.\n* **COVID-19** specifies the cause of the ARDS, which is the viral infection.\n* **Moderate** describes the severity of the ARDS.\n\nTherefore, the major diagnosis is clearly identified as moderate ARDS resulting from COVID-19."
          },
          "metadata": {},
          "execution_count": 16
        }
      ]
    },
    {
      "cell_type": "code",
      "source": [
        "# Experiment Tree of thought\n",
        "# Get gemini to explain what is a tree of thought\n",
        "prompt = \"Explain what is a tree of thought for a beginner learning LLMs\"\n",
        "response = client.models.generate_content(\n",
        "  model=\"gemini-1.5-flash\",\n",
        "  contents=[\n",
        "      types.Part.from_bytes(\n",
        "        data=noteToProcess.encode('utf-8'),\n",
        "        mime_type='text/plain',\n",
        "      ),\n",
        "      prompt])"
      ],
      "metadata": {
        "id": "Bqi63UIgCtvt"
      },
      "execution_count": 17,
      "outputs": []
    },
    {
      "cell_type": "code",
      "source": [
        "print(response.text)"
      ],
      "metadata": {
        "colab": {
          "base_uri": "https://localhost:8080/"
        },
        "id": "FsxBedxtDG8L",
        "outputId": "457f6966-773a-4d87-fee1-faf0021bd5f1"
      },
      "execution_count": 18,
      "outputs": [
        {
          "output_type": "stream",
          "name": "stdout",
          "text": [
            "The discharge summary describes a successful treatment of a 60-year-old male with moderate ARDS (Acute Respiratory Distress Syndrome) caused by COVID-19.  The key points are:\n",
            "\n",
            "* **Severe Illness:** The patient presented with classic COVID-19 symptoms and developed ARDS, a serious lung condition requiring significant respiratory support.\n",
            "* **Cautious Rehabilitation:** Due to the risk of further respiratory distress, his physical therapy was carefully managed, progressing slowly from minimal exercise to more strenuous activity as tolerated.  The focus was on preventing further oxygen desaturation and respiratory distress.\n",
            "* **Successful Rehabilitation:**  Despite the initial severity, the patient made satisfactory progress and was discharged to a rehabilitation clinic after 10 days.\n",
            "* **Ongoing Care:**  His recovery will continue at the rehabilitation clinic with ongoing monitoring and therapy.\n",
            "\n",
            "This summary highlights the importance of a multidisciplinary approach to managing severe COVID-19, involving careful monitoring, graduated physical therapy, and ongoing rehabilitation to ensure optimal recovery.\n",
            "\n",
            "\n",
            "---\n",
            "\n",
            "Now, let's explain \"Tree of Thought\" for a beginner learning about Large Language Models (LLMs).\n",
            "\n",
            "Imagine you're trying to solve a complex problem, like planning a trip.  You don't just jump to a solution; you consider various options, evaluate them, and then maybe reconsider based on new information.  That's similar to how a \"Tree of Thought\" works in an LLM.\n",
            "\n",
            "Instead of just producing one answer, a Tree of Thought LLM explores multiple potential reasoning paths.  Think of it as a branching tree:\n",
            "\n",
            "* **Root:** The initial problem or question. (e.g., \"What's the best route from New York to Los Angeles?\")\n",
            "* **Branches:**  Different possible solutions or steps in the reasoning process. (e.g., \"Fly directly,\" \"Drive across country,\" \"Fly to Chicago then drive,\" etc.)\n",
            "* **Leaves:** The final conclusions or answers derived from each branch. (e.g., \"Fastest but most expensive: Direct flight,\" \"Slowest but cheapest: Driving,\" etc.)\n",
            "\n",
            "The LLM doesn't just choose the first branch it finds; it explores several branches, evaluating the potential benefits and drawbacks of each path *before* selecting a final answer.  This allows for more robust and accurate reasoning, particularly for complex or multi-step problems.\n",
            "\n",
            "**In simple terms:**  A Tree of Thought approach helps an LLM think more like a human, considering multiple options and possibilities before arriving at a conclusion, rather than just giving the first answer that comes to mind.  It's a way of making LLMs more thoughtful and less prone to errors.\n",
            "\n"
          ]
        }
      ]
    },
    {
      "cell_type": "code",
      "source": [
        "# explore some questions with reasoning\n",
        "prompt = 'What is the major diagnosis for the patient? Use tree of thought to conclude and tell how you arrived'\n",
        "response = client.models.generate_content(\n",
        "  model=\"gemini-1.5-flash\",\n",
        "  contents=[\n",
        "      types.Part.from_bytes(\n",
        "        data=noteToProcess.encode('utf-8'),\n",
        "        mime_type='text/plain',\n",
        "      ),\n",
        "      prompt])\n",
        "Markdown(response.text)"
      ],
      "metadata": {
        "colab": {
          "base_uri": "https://localhost:8080/",
          "height": 365
        },
        "id": "B1ntSVSNDXmI",
        "outputId": "f74d2506-93d5-45f7-fa09-2c0927d0919d"
      },
      "execution_count": null,
      "outputs": [
        {
          "output_type": "execute_result",
          "data": {
            "text/plain": [
              "<IPython.core.display.Markdown object>"
            ],
            "text/markdown": "**Tree of Thought to Determine Major Diagnosis:**\n\n1. **Initial Symptoms:** The discharge summary highlights fever, dry cough, and dyspnea (shortness of breath) as the initial presentation.  These are common symptoms of various respiratory illnesses, including COVID-19.\n\n2. **Diagnosis Confirmation (Implied):**  The summary states the patient had \"moderate ARDS from COVID-19.\"  This implies that COVID-19 was confirmed through testing (e.g., PCR test) and that the ARDS (Acute Respiratory Distress Syndrome) was a direct consequence of the infection.\n\n3. **ARDS as the Complication:** ARDS is a severe lung injury leading to respiratory failure.  While the patient initially presented with COVID-19 symptoms, the ARDS significantly impacted his hospital course and treatment. The focus of the hospital stay was managing the ARDS.\n\n4. **Hospital Course Focused on ARDS Management:** The description of the patient's physical therapy, focusing on carefully managed positioning and breathing exercises to prevent oxygen desaturation, directly points to the management of ARDS.  The slow progression of exercises underscores the severity of the lung condition.\n\n5. **Discharge to Rehabilitation:**  The discharge to a rehabilitation clinic, rather than directly home, indicates the ongoing need for respiratory and physical rehabilitation to address the lingering effects of ARDS.\n\n**Conclusion:**\n\nTherefore, while the underlying cause was COVID-19 infection, the **major diagnosis** during the hospital stay and the primary reason for admission was **moderate ARDS secondary to COVID-19**.  The COVID-19 infection itself is a contributing factor but not the focus of treatment and outcome description in this summary.  ARDS, with its complexities and requiring specialized management, is the central diagnostic feature highlighted throughout the discharge summary.\n"
          },
          "metadata": {},
          "execution_count": 20
        }
      ]
    },
    {
      "cell_type": "code",
      "source": [
        "# Teach me the difference between chain of thought and tree of thought and use the data in notetoprocess variable to explain\n",
        "prompt = 'What is the difference between chain of thought and tree of thought and use the data in notetoprocess variable to explain'\n",
        "response = client.models.generate_content(\n",
        "  model=\"gemini-1.5-flash\",\n",
        "  contents=[\n",
        "      types.Part.from_bytes(\n",
        "        data=noteToProcess.encode('utf-8'),\n",
        "        mime_type='text/plain',\n",
        "      ),\n",
        "      prompt])\n",
        "Markdown(response.text)"
      ],
      "metadata": {
        "colab": {
          "base_uri": "https://localhost:8080/",
          "height": 523
        },
        "id": "c9CFEKhDDynx",
        "outputId": "f5dc88ef-72e7-4340-9a40-be205d3e54a2"
      },
      "execution_count": 19,
      "outputs": [
        {
          "output_type": "execute_result",
          "data": {
            "text/plain": [
              "<IPython.core.display.Markdown object>"
            ],
            "text/markdown": "The provided discharge summary doesn't offer any information related to \"chain of thought\" or \"tree of thought\" reasoning processes.  These are concepts from the field of artificial intelligence, specifically in large language models (LLMs), and relate to how the models generate text or solve problems. They are not medical concepts.\n\n**Chain of thought prompting:** encourages the model to break down a complex problem into a sequence of intermediate reasoning steps before arriving at a final answer.  It's linear.\n\n**Tree of thought prompting:** extends chain of thought by allowing the model to explore multiple reasoning paths simultaneously, similar to branching out in a tree. It considers different possible solutions or intermediate steps in parallel.\n\n\nThe discharge summary details a patient's journey through ARDS treatment and recovery.  There's no application of these AI reasoning methods within the medical information given.  To illustrate the difference using a *hypothetical* example relevant to the patient's case:\n\n**Chain of Thought (example):**\n\n* **Problem:** Patient has low oxygen saturation during position changes.\n* **Step 1:** Assess the patient's tolerance to movement.\n* **Step 2:** Start with minimal position changes.\n* **Step 3:** Gradually increase the range and frequency of position changes as tolerated.\n* **Step 4:** Monitor oxygen saturation continuously.\n* **Step 5:** Adjust the therapy based on the patient's response.\n\n\n**Tree of Thought (example):**\n\nThe problem remains the same: low oxygen saturation during position changes.  But instead of a linear approach, a tree of thought might explore different interventions concurrently:\n\n\n* **Branch 1:**  Minimal position changes + supplemental oxygen.\n* **Branch 2:**  Positioning techniques + breathing exercises.\n* **Branch 3:**  Medication to reduce coughing + gradual position changes.\n\nThe model would then evaluate the effectiveness of each branch and potentially combine successful strategies.  This is a more exploratory and potentially more efficient problem-solving approach, especially when dealing with uncertainty (which is common in medical situations).\n\nIn short, the discharge summary contains clinical data;  chain of thought and tree of thought are AI methodologies that aren't directly present in that medical record.\n"
          },
          "metadata": {},
          "execution_count": 19
        }
      ]
    }
  ]
}