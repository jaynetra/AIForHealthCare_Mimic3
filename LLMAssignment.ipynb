{
  "nbformat": 4,
  "nbformat_minor": 0,
  "metadata": {
    "colab": {
      "provenance": [],
      "authorship_tag": "ABX9TyM+XL+cEn2BIVQqiktueJEj",
      "include_colab_link": true
    },
    "kernelspec": {
      "name": "python3",
      "display_name": "Python 3"
    },
    "language_info": {
      "name": "python"
    }
  },
  "cells": [
    {
      "cell_type": "markdown",
      "metadata": {
        "id": "view-in-github",
        "colab_type": "text"
      },
      "source": [
        "<a href=\"https://colab.research.google.com/github/jaynetra/AIForHealthCare_Mimic3/blob/main/LLMAssignment.ipynb\" target=\"_parent\"><img src=\"https://colab.research.google.com/assets/colab-badge.svg\" alt=\"Open In Colab\"/></a>"
      ]
    },
    {
      "cell_type": "markdown",
      "source": [],
      "metadata": {
        "id": "TiSgqTJPRo4s"
      }
    },
    {
      "cell_type": "markdown",
      "source": [
        "## Medical Note Summarization with Gemini and Prompt Engineering\n",
        "\n",
        "This project aims to develop a robust system for summarizing medical notes using Google\n",
        "Gemini models and advanced prompt engineering techniques.\n",
        "By leveraging synthetic data and an iterative refinement process,\n",
        "the project will deliver high-quality, concise summaries of medical records,\n",
        "enhancing accessibility and understanding of patient information.\n",
        "\n",
        "**Key Features**\n",
        "\n",
        "* **Prompt Engineering:** Employs iterative prompt refinement to guide the model towards producing accurate and informative summaries.\n",
        "\n",
        "* **Synthetic Data:** Uses synthetic medical data from Hugging Face to train and evaluate the system, ensuring privacy and data security.\n",
        "\n",
        "**Workflow:**\n",
        "\n",
        "1. **Data Acquisition:** Load synthetic medical data from Hugging Face Datasets.\n",
        "\n",
        "4. **Iterative Refinement:**  Continuously evaluate the generated summaries and refine the prompts based on performance analysis.\n",
        "\n",
        "**TODO**\n",
        "* **Streamlit Integration:** Deploy the trained model and prompt store within a Streamlit application, enabling users to interact with the system.\n",
        "\n",
        "\n",
        "* **Interactive Interface:** Provides a user-friendly Streamlit application for querying the model with medical notes and viewing generated summaries."
      ],
      "metadata": {
        "id": "HZV_8gjRTMrI"
      }
    },
    {
      "cell_type": "markdown",
      "source": [],
      "metadata": {
        "id": "zvxm8UI9TFvI"
      }
    },
    {
      "cell_type": "code",
      "source": [
        "# pip installs\n",
        "!pip install datasets\n",
        "!pip install huggingface_hub"
      ],
      "metadata": {
        "colab": {
          "base_uri": "https://localhost:8080/"
        },
        "id": "LS5Jpf0MHZze",
        "outputId": "cdb099bf-1ec3-4350-aa78-7032f7572efd"
      },
      "execution_count": 1,
      "outputs": [
        {
          "output_type": "stream",
          "name": "stdout",
          "text": [
            "Requirement already satisfied: datasets in /usr/local/lib/python3.11/dist-packages (3.5.0)\n",
            "Requirement already satisfied: filelock in /usr/local/lib/python3.11/dist-packages (from datasets) (3.18.0)\n",
            "Requirement already satisfied: numpy>=1.17 in /usr/local/lib/python3.11/dist-packages (from datasets) (2.0.2)\n",
            "Requirement already satisfied: pyarrow>=15.0.0 in /usr/local/lib/python3.11/dist-packages (from datasets) (18.1.0)\n",
            "Requirement already satisfied: dill<0.3.9,>=0.3.0 in /usr/local/lib/python3.11/dist-packages (from datasets) (0.3.8)\n",
            "Requirement already satisfied: pandas in /usr/local/lib/python3.11/dist-packages (from datasets) (2.2.2)\n",
            "Requirement already satisfied: requests>=2.32.2 in /usr/local/lib/python3.11/dist-packages (from datasets) (2.32.3)\n",
            "Requirement already satisfied: tqdm>=4.66.3 in /usr/local/lib/python3.11/dist-packages (from datasets) (4.67.1)\n",
            "Requirement already satisfied: xxhash in /usr/local/lib/python3.11/dist-packages (from datasets) (3.5.0)\n",
            "Requirement already satisfied: multiprocess<0.70.17 in /usr/local/lib/python3.11/dist-packages (from datasets) (0.70.16)\n",
            "Requirement already satisfied: fsspec<=2024.12.0,>=2023.1.0 in /usr/local/lib/python3.11/dist-packages (from fsspec[http]<=2024.12.0,>=2023.1.0->datasets) (2024.12.0)\n",
            "Requirement already satisfied: aiohttp in /usr/local/lib/python3.11/dist-packages (from datasets) (3.11.15)\n",
            "Requirement already satisfied: huggingface-hub>=0.24.0 in /usr/local/lib/python3.11/dist-packages (from datasets) (0.30.1)\n",
            "Requirement already satisfied: packaging in /usr/local/lib/python3.11/dist-packages (from datasets) (24.2)\n",
            "Requirement already satisfied: pyyaml>=5.1 in /usr/local/lib/python3.11/dist-packages (from datasets) (6.0.2)\n",
            "Requirement already satisfied: aiohappyeyeballs>=2.3.0 in /usr/local/lib/python3.11/dist-packages (from aiohttp->datasets) (2.6.1)\n",
            "Requirement already satisfied: aiosignal>=1.1.2 in /usr/local/lib/python3.11/dist-packages (from aiohttp->datasets) (1.3.2)\n",
            "Requirement already satisfied: attrs>=17.3.0 in /usr/local/lib/python3.11/dist-packages (from aiohttp->datasets) (25.3.0)\n",
            "Requirement already satisfied: frozenlist>=1.1.1 in /usr/local/lib/python3.11/dist-packages (from aiohttp->datasets) (1.5.0)\n",
            "Requirement already satisfied: multidict<7.0,>=4.5 in /usr/local/lib/python3.11/dist-packages (from aiohttp->datasets) (6.3.2)\n",
            "Requirement already satisfied: propcache>=0.2.0 in /usr/local/lib/python3.11/dist-packages (from aiohttp->datasets) (0.3.1)\n",
            "Requirement already satisfied: yarl<2.0,>=1.17.0 in /usr/local/lib/python3.11/dist-packages (from aiohttp->datasets) (1.18.3)\n",
            "Requirement already satisfied: typing-extensions>=3.7.4.3 in /usr/local/lib/python3.11/dist-packages (from huggingface-hub>=0.24.0->datasets) (4.13.1)\n",
            "Requirement already satisfied: charset-normalizer<4,>=2 in /usr/local/lib/python3.11/dist-packages (from requests>=2.32.2->datasets) (3.4.1)\n",
            "Requirement already satisfied: idna<4,>=2.5 in /usr/local/lib/python3.11/dist-packages (from requests>=2.32.2->datasets) (3.10)\n",
            "Requirement already satisfied: urllib3<3,>=1.21.1 in /usr/local/lib/python3.11/dist-packages (from requests>=2.32.2->datasets) (2.3.0)\n",
            "Requirement already satisfied: certifi>=2017.4.17 in /usr/local/lib/python3.11/dist-packages (from requests>=2.32.2->datasets) (2025.1.31)\n",
            "Requirement already satisfied: python-dateutil>=2.8.2 in /usr/local/lib/python3.11/dist-packages (from pandas->datasets) (2.8.2)\n",
            "Requirement already satisfied: pytz>=2020.1 in /usr/local/lib/python3.11/dist-packages (from pandas->datasets) (2025.2)\n",
            "Requirement already satisfied: tzdata>=2022.7 in /usr/local/lib/python3.11/dist-packages (from pandas->datasets) (2025.2)\n",
            "Requirement already satisfied: six>=1.5 in /usr/local/lib/python3.11/dist-packages (from python-dateutil>=2.8.2->pandas->datasets) (1.17.0)\n",
            "Requirement already satisfied: huggingface_hub in /usr/local/lib/python3.11/dist-packages (0.30.1)\n",
            "Requirement already satisfied: filelock in /usr/local/lib/python3.11/dist-packages (from huggingface_hub) (3.18.0)\n",
            "Requirement already satisfied: fsspec>=2023.5.0 in /usr/local/lib/python3.11/dist-packages (from huggingface_hub) (2024.12.0)\n",
            "Requirement already satisfied: packaging>=20.9 in /usr/local/lib/python3.11/dist-packages (from huggingface_hub) (24.2)\n",
            "Requirement already satisfied: pyyaml>=5.1 in /usr/local/lib/python3.11/dist-packages (from huggingface_hub) (6.0.2)\n",
            "Requirement already satisfied: requests in /usr/local/lib/python3.11/dist-packages (from huggingface_hub) (2.32.3)\n",
            "Requirement already satisfied: tqdm>=4.42.1 in /usr/local/lib/python3.11/dist-packages (from huggingface_hub) (4.67.1)\n",
            "Requirement already satisfied: typing-extensions>=3.7.4.3 in /usr/local/lib/python3.11/dist-packages (from huggingface_hub) (4.13.1)\n",
            "Requirement already satisfied: charset-normalizer<4,>=2 in /usr/local/lib/python3.11/dist-packages (from requests->huggingface_hub) (3.4.1)\n",
            "Requirement already satisfied: idna<4,>=2.5 in /usr/local/lib/python3.11/dist-packages (from requests->huggingface_hub) (3.10)\n",
            "Requirement already satisfied: urllib3<3,>=1.21.1 in /usr/local/lib/python3.11/dist-packages (from requests->huggingface_hub) (2.3.0)\n",
            "Requirement already satisfied: certifi>=2017.4.17 in /usr/local/lib/python3.11/dist-packages (from requests->huggingface_hub) (2025.1.31)\n"
          ]
        }
      ]
    },
    {
      "cell_type": "code",
      "source": [
        "# import packages for models - gemini\n",
        "\n",
        "!pip install -U -q \"google-genai==1.7.0\""
      ],
      "metadata": {
        "id": "Of-dKev-ojSa"
      },
      "execution_count": 2,
      "outputs": []
    },
    {
      "cell_type": "markdown",
      "source": [],
      "metadata": {
        "id": "fy0GnGXJFzyn"
      }
    },
    {
      "cell_type": "code",
      "source": [
        "# set up google api key\n",
        "from google.colab import userdata\n",
        "userdata.get('GOOGLE_KEY')\n"
      ],
      "metadata": {
        "id": "z-hT4w0_Gvp9"
      },
      "execution_count": null,
      "outputs": []
    },
    {
      "cell_type": "code",
      "source": [
        "# prompt: get some medical notes from hugging face project\n",
        "\n",
        "from datasets import load_dataset\n",
        "from google.colab import userdata\n",
        "\n",
        "# Load the dataset\n",
        "dataset = load_dataset(\"starmpcc/Asclepius-Synthetic-Clinical-Notes\")\n",
        "\n",
        "# Access the medical notes\n",
        "#medical_notes = dataset['train']['text']\n",
        "\n"
      ],
      "metadata": {
        "id": "vCSp5ttSHCPz"
      },
      "execution_count": 4,
      "outputs": []
    },
    {
      "cell_type": "code",
      "source": [
        "# Print the first  medical notes\n",
        "noteToProcess = dataset['train'][0]['note']\n"
      ],
      "metadata": {
        "id": "_F_FindZM1z8"
      },
      "execution_count": 5,
      "outputs": []
    },
    {
      "cell_type": "code",
      "source": [
        "print(noteToProcess)"
      ],
      "metadata": {
        "colab": {
          "base_uri": "https://localhost:8080/"
        },
        "id": "15WBqKfgUktb",
        "outputId": "6db43343-93ee-4024-c492-9aea512ea846"
      },
      "execution_count": 6,
      "outputs": [
        {
          "output_type": "stream",
          "name": "stdout",
          "text": [
            "Discharge Summary:\n",
            "\n",
            "Patient: 60-year-old male with moderate ARDS from COVID-19\n",
            "\n",
            "Hospital Course:\n",
            "\n",
            "The patient was admitted to the hospital with symptoms of fever, dry cough, and dyspnea. During physical therapy on the acute ward, the patient experienced coughing attacks that induced oxygen desaturation and dyspnea with any change of position or deep breathing. To avoid rapid deterioration and respiratory failure, a step-by-step approach was used for position changes. The breathing exercises were adapted to avoid prolonged coughing and oxygen desaturation, and with close monitoring, the patient managed to perform strength and walking exercises at a low level. Exercise progression was low initially but increased daily until hospital discharge to a rehabilitation clinic on day 10.\n",
            "\n",
            "Clinical Outcome:\n",
            "\n",
            "The patient was discharged on day 10 to a rehabilitation clinic making satisfactory progress with all symptoms resolved.\n",
            "\n",
            "Follow-up:\n",
            "\n",
            "The patient will receive follow-up care at the rehabilitation clinic, with regular monitoring of progress and further rehabilitation exercises until full recovery. Any new symptoms or concerns should be reported to the clinic immediately.\n",
            "\n",
            "Overall Impression:\n",
            "\n",
            "The patient responded well to treatment, and with appropriate medical intervention, was able to overcome the difficulties faced during hospitalization for ARDS from COVID-19. The patient's level of care was of a high standard, with all necessary therapy provided and monitoring of progress before discharge.\n"
          ]
        }
      ]
    },
    {
      "cell_type": "code",
      "source": [
        "from google import genai\n",
        "from google.genai import types\n",
        "\n",
        "from IPython.display import HTML, Markdown, display"
      ],
      "metadata": {
        "id": "2OTNH3Imo3LG"
      },
      "execution_count": 7,
      "outputs": []
    },
    {
      "cell_type": "code",
      "source": [
        "from google.api_core import retry\n",
        "\n",
        "\n",
        "is_retriable = lambda e: (isinstance(e, genai.errors.APIError) and e.code in {429, 503})\n",
        "\n",
        "genai.models.Models.generate_content = retry.Retry(\n",
        "    predicate=is_retriable)(genai.models.Models.generate_content)"
      ],
      "metadata": {
        "id": "Bk3S9pNTo7bv"
      },
      "execution_count": 8,
      "outputs": []
    },
    {
      "cell_type": "code",
      "source": [
        "client = genai.Client(api_key=userdata.get('GOOGLE_KEY'))\n",
        "\n"
      ],
      "metadata": {
        "id": "AdfeJGZ3pBDH"
      },
      "execution_count": 9,
      "outputs": []
    },
    {
      "cell_type": "code",
      "source": [
        "# Zero shot prompting\n",
        "model_config = types.GenerateContentConfig(\n",
        "    temperature=0.1,\n",
        "    top_p=1,\n",
        "    max_output_tokens=5,\n",
        ")\n",
        "\n",
        "\n",
        "prompt = \"Summarize the clinical notes\"\n",
        "response = client.models.generate_content(\n",
        "  model=\"gemini-1.5-flash\",\n",
        "  contents=[\n",
        "      types.Part.from_bytes(\n",
        "        data=noteToProcess.encode('utf-8'),\n",
        "        mime_type='text/plain',\n",
        "      ),\n",
        "      prompt])\n",
        "\n",
        "\n",
        "print(response.text)"
      ],
      "metadata": {
        "colab": {
          "base_uri": "https://localhost:8080/"
        },
        "id": "QXU9MHrfphX5",
        "outputId": "7d39e103-db0e-4957-8c57-cdc8769c1af4"
      },
      "execution_count": 10,
      "outputs": [
        {
          "output_type": "stream",
          "name": "stdout",
          "text": [
            "A 60-year-old male with moderate COVID-19-induced ARDS was hospitalized for 10 days.  He presented with fever, cough, and dyspnea.  Physical therapy was carefully managed due to his susceptibility to oxygen desaturation and dyspnea with coughing or position changes.  Gradual progress was made in breathing and mobility exercises, culminating in discharge to a rehabilitation clinic on day 10 with resolved symptoms.  He will continue rehabilitation and monitoring at the clinic.  His hospital course was deemed successful with high-quality care.\n",
            "\n"
          ]
        }
      ]
    },
    {
      "cell_type": "code",
      "source": [
        "# few shot prompt\n",
        "fs_prompt = \"\"\"\n",
        "Parse the notes into a valid JSON\n",
        "example : json\n",
        "{\n",
        "  \"patient\": {\n",
        "    \"age\": 60,\n",
        "    \"sex\": \"male\",\n",
        "    \"diagnosis\": \"Moderate ARDS from COVID-19\"\n",
        "  }\n",
        "\"\"\"\n",
        "response = client.models.generate_content(\n",
        "  model=\"gemini-1.5-flash\",\n",
        "  contents=[\n",
        "      types.Part.from_bytes(\n",
        "        data=noteToProcess.encode('utf-8'),\n",
        "        mime_type='text/plain',\n",
        "      ),\n",
        "      fs_prompt])\n"
      ],
      "metadata": {
        "id": "Pbvenb8usgsA"
      },
      "execution_count": 11,
      "outputs": []
    },
    {
      "cell_type": "code",
      "source": [
        "print(response.text)"
      ],
      "metadata": {
        "colab": {
          "base_uri": "https://localhost:8080/"
        },
        "id": "adwl1ecgt-wp",
        "outputId": "f39ae6d7-37a2-4d40-eaed-839174660f0f"
      },
      "execution_count": 12,
      "outputs": [
        {
          "output_type": "stream",
          "name": "stdout",
          "text": [
            "```json\n",
            "{\n",
            "  \"patient\": {\n",
            "    \"age\": 60,\n",
            "    \"sex\": \"male\",\n",
            "    \"diagnosis\": \"Moderate ARDS from COVID-19\"\n",
            "  },\n",
            "  \"hospitalCourse\": {\n",
            "    \"admissionSymptoms\": [\"fever\", \"dry cough\", \"dyspnea\"],\n",
            "    \"physicalTherapy\": {\n",
            "      \"challenges\": [\"coughing attacks inducing oxygen desaturation and dyspnea with position changes and deep breathing\"],\n",
            "      \"approach\": \"step-by-step approach for position changes, adapted breathing exercises to avoid prolonged coughing and oxygen desaturation\",\n",
            "      \"exercises\": [\"strength exercises\", \"walking exercises\"],\n",
            "      \"exerciseProgression\": \"low initially, increased daily\"\n",
            "    },\n",
            "    \"lengthOfStay\": 10\n",
            "  },\n",
            "  \"clinicalOutcome\": {\n",
            "    \"dischargeLocation\": \"rehabilitation clinic\",\n",
            "    \"dischargeStatus\": \"satisfactory progress, all symptoms resolved\"\n",
            "  },\n",
            "  \"followUp\": {\n",
            "    \"location\": \"rehabilitation clinic\",\n",
            "    \"plan\": \"regular monitoring of progress and further rehabilitation exercises until full recovery\",\n",
            "    \"instructions\": \"Report any new symptoms or concerns to the clinic immediately\"\n",
            "  },\n",
            "  \"overallImpression\": {\n",
            "    \"responseToTreatment\": \"responded well to treatment\",\n",
            "    \"careLevel\": \"high standard, all necessary therapy provided and progress monitored\"\n",
            "  }\n",
            "}\n",
            "```\n",
            "\n"
          ]
        }
      ]
    },
    {
      "cell_type": "code",
      "source": [
        "fs_prompt = \"Parse the notes into a valid JSON and title it Discharge Summary\"\n",
        "response = client.models.generate_content(\n",
        "  model=\"gemini-1.5-flash\",\n",
        "  contents=[\n",
        "      types.Part.from_bytes(\n",
        "        data=noteToProcess.encode('utf-8'),\n",
        "        mime_type='text/plain',\n",
        "      ),\n",
        "      fs_prompt])\n",
        "print(response.text)"
      ],
      "metadata": {
        "colab": {
          "base_uri": "https://localhost:8080/"
        },
        "id": "K4GsDaSFuhwg",
        "outputId": "f1d35c53-910b-4708-9fb9-83b72511bd56"
      },
      "execution_count": 13,
      "outputs": [
        {
          "output_type": "stream",
          "name": "stdout",
          "text": [
            "```json\n",
            "{\n",
            "  \"Discharge Summary\": {\n",
            "    \"Patient\": {\n",
            "      \"age\": 60,\n",
            "      \"sex\": \"male\",\n",
            "      \"diagnosis\": \"Moderate ARDS from COVID-19\"\n",
            "    },\n",
            "    \"Hospital Course\": {\n",
            "      \"admissionSymptoms\": [\"fever\", \"dry cough\", \"dyspnea\"],\n",
            "      \"physicalTherapy\": {\n",
            "        \"challenges\": \"Coughing attacks induced oxygen desaturation and dyspnea with position changes or deep breathing.\",\n",
            "        \"approach\": \"Step-by-step approach for position changes, adapted breathing exercises to avoid prolonged coughing and oxygen desaturation.\",\n",
            "        \"progress\": \"Initially low level strength and walking exercises, increased daily until discharge.\"\n",
            "      },\n",
            "      \"lengthOfStay\": 10\n",
            "    },\n",
            "    \"Clinical Outcome\": {\n",
            "      \"dischargeLocation\": \"Rehabilitation clinic\",\n",
            "      \"dischargeStatus\": \"Satisfactory progress, all symptoms resolved\"\n",
            "    },\n",
            "    \"Follow-up\": {\n",
            "      \"location\": \"Rehabilitation clinic\",\n",
            "      \"plan\": \"Regular monitoring, further rehabilitation exercises until full recovery. Report any new symptoms immediately.\"\n",
            "    },\n",
            "    \"Overall Impression\": {\n",
            "      \"responseToTreatment\": \"Responded well to treatment.\",\n",
            "      \"careLevel\": \"High standard, all necessary therapy provided and progress monitored.\"\n",
            "    }\n",
            "  }\n",
            "}\n",
            "```\n",
            "\n"
          ]
        }
      ]
    },
    {
      "cell_type": "code",
      "source": [
        "# let us ask some questions\n",
        "qnPrompt = 'What is the major diagnosis for the patient?'\n",
        "response = client.models.generate_content(\n",
        "  model=\"gemini-1.5-flash\",\n",
        "  contents=[\n",
        "      types.Part.from_bytes(\n",
        "        data=noteToProcess.encode('utf-8'),\n",
        "        mime_type='text/plain',\n",
        "      ),\n",
        "      qnPrompt])\n",
        "print(response.text)"
      ],
      "metadata": {
        "colab": {
          "base_uri": "https://localhost:8080/"
        },
        "id": "CQP0PiP4uyaI",
        "outputId": "b7ed6012-ee35-4f72-e10d-5c1744816b05"
      },
      "execution_count": 14,
      "outputs": [
        {
          "output_type": "stream",
          "name": "stdout",
          "text": [
            "The major diagnosis is **ARDS (Acute Respiratory Distress Syndrome) secondary to COVID-19**.\n",
            "\n"
          ]
        }
      ]
    },
    {
      "cell_type": "code",
      "source": [
        "# Chain of thought promplt\n",
        "cotPrompt = 'What is the major diagnosis for the patient? Think step by step'\n",
        "response = client.models.generate_content(\n",
        "  model=\"gemini-1.5-flash\",\n",
        "  contents=[\n",
        "      types.Part.from_bytes(\n",
        "        data=noteToProcess.encode('utf-8'),\n",
        "        mime_type='text/plain',\n",
        "      ),\n",
        "      cotPrompt])\n",
        "Markdown(response.text)"
      ],
      "metadata": {
        "colab": {
          "base_uri": "https://localhost:8080/",
          "height": 237
        },
        "id": "3u-wmgBBvLkT",
        "outputId": "535b51e2-fed8-4715-c5ae-a9bd0619fb93"
      },
      "execution_count": 15,
      "outputs": [
        {
          "output_type": "execute_result",
          "data": {
            "text/plain": [
              "<IPython.core.display.Markdown object>"
            ],
            "text/markdown": "Here's a step-by-step breakdown to determine the major diagnosis:\n\n1. **Identify the presenting symptoms:** The patient presented with fever, dry cough, and dyspnea (shortness of breath).\n\n2. **Consider the underlying condition:**  The summary explicitly states the patient had \"moderate ARDS from COVID-19\".\n\n3. **Understand ARDS:** Acute Respiratory Distress Syndrome (ARDS) is a serious lung condition characterized by fluid buildup in the lungs, making breathing extremely difficult.\n\n4. **The cause:**  The summary clarifies that the ARDS was caused by COVID-19.\n\n5. **Prioritize the diagnosis:** While the patient had fever and cough (symptoms of COVID-19), the major diagnosis driving the hospital course and treatment is the **moderate ARDS secondary to COVID-19**.  The ARDS is the critical condition requiring the intensive care and rehabilitation.\n\nTherefore, the major diagnosis is **moderate ARDS secondary to COVID-19**.\n"
          },
          "metadata": {},
          "execution_count": 15
        }
      ]
    },
    {
      "cell_type": "code",
      "source": [
        "#Thinking mode\n",
        "import io\n",
        "from IPython.display import Markdown, clear_output\n",
        "\n",
        "\n",
        "response = client.models.generate_content_stream(\n",
        "    model='gemini-2.0-flash-thinking-exp',\n",
        "    contents=[\n",
        "      types.Part.from_bytes(\n",
        "        data=noteToProcess.encode('utf-8'),\n",
        "        mime_type='text/plain',\n",
        "      ),\n",
        "      cotPrompt])\n",
        "\n",
        "\n",
        "buf = io.StringIO()\n",
        "for chunk in response:\n",
        "    buf.write(chunk.text)\n",
        "    # Display the response as it is streamed\n",
        "    print(chunk.text, end='')\n",
        "\n",
        "# And then render the finished response as formatted markdown.\n",
        "clear_output()\n",
        "Markdown(buf.getvalue())\n"
      ],
      "metadata": {
        "colab": {
          "base_uri": "https://localhost:8080/",
          "height": 225
        },
        "id": "8plhfhCyvfb7",
        "outputId": "4aa0a99c-5b80-4d56-c975-ce6b994e7212"
      },
      "execution_count": 16,
      "outputs": [
        {
          "output_type": "execute_result",
          "data": {
            "text/plain": [
              "<IPython.core.display.Markdown object>"
            ],
            "text/markdown": "The major diagnosis for the patient is **moderate ARDS from COVID-19**.\n\n**Step-by-step reasoning:**\n\n1. **Identify the Patient's Condition:** The first line of the discharge summary directly states: \"Patient: 60-year-old male with moderate ARDS from COVID-19\".\n2. **Break Down the Diagnosis:**\n    * **ARDS:** This stands for Acute Respiratory Distress Syndrome, a serious lung condition.\n    * **COVID-19:** This indicates the cause of the ARDS, which is the Coronavirus Disease 2019.\n    * **Moderate:** This describes the severity of the ARDS.\n\n**Conclusion:** The discharge summary explicitly states the patient's condition as \"moderate ARDS from COVID-19\". This is the primary reason for hospitalization and the focus of the treatment described in the hospital course."
          },
          "metadata": {},
          "execution_count": 16
        }
      ]
    },
    {
      "cell_type": "code",
      "source": [
        "# Experiment Tree of thought\n",
        "# Get gemini to explain what is a tree of thought\n",
        "prompt = \"Explain what is a tree of thought for a beginner learning LLMs\"\n",
        "response = client.models.generate_content(\n",
        "  model=\"gemini-1.5-flash\",\n",
        "  contents=[\n",
        "      types.Part.from_bytes(\n",
        "        data=noteToProcess.encode('utf-8'),\n",
        "        mime_type='text/plain',\n",
        "      ),\n",
        "      prompt])"
      ],
      "metadata": {
        "id": "Bqi63UIgCtvt"
      },
      "execution_count": 17,
      "outputs": []
    },
    {
      "cell_type": "code",
      "source": [
        "print(response.text)"
      ],
      "metadata": {
        "colab": {
          "base_uri": "https://localhost:8080/"
        },
        "id": "FsxBedxtDG8L",
        "outputId": "eee301a2-8efa-40f7-e72d-bee0fa4e70b2"
      },
      "execution_count": 18,
      "outputs": [
        {
          "output_type": "stream",
          "name": "stdout",
          "text": [
            "Let's first clarify what a \"tree of thought\" is *not*.  It's not a direct part of the discharge summary you provided.  That summary describes a patient's medical journey.  A tree of thought is a concept related to how *Large Language Models (LLMs)*, like the one I am, reason and arrive at answers.\n",
            "\n",
            "Imagine you're trying to solve a complex puzzle. You don't just jump to the solution; you explore different possibilities, discarding some and pursuing others.  This process of exploring and branching out is represented visually as a tree, hence the name \"tree of thought.\"\n",
            "\n",
            "**For a beginner, think of a tree of thought like this:**\n",
            "\n",
            "1. **The Root:** This is the initial problem or question the LLM needs to answer.  For example, \"What is the best treatment plan for a patient with ARDS?\"\n",
            "\n",
            "2. **Branches:**  These represent different potential approaches or lines of reasoning the LLM explores.  Each branch might represent a different aspect of the problem.  For ARDS, branches could include:  \"Oxygen therapy,\" \"Mechanical ventilation,\" \"Physical therapy,\" \"Medication,\" etc.\n",
            "\n",
            "3. **Sub-Branches:** Each branch can further divide into sub-branches. For example, under \"Physical therapy,\" there might be sub-branches like \"breathing exercises,\" \"mobility exercises,\" and \"positioning.\"\n",
            "\n",
            "4. **Leaves:** These are the final conclusions or potential answers reached at the end of each branch.  Some leaves might be stronger or more likely answers than others.\n",
            "\n",
            "5. **Pruning:**  The LLM doesn't explore *every* possible branch. It uses various techniques to assess the likelihood of success for each branch and \"prune\" (discard) less promising paths. This keeps the search manageable.\n",
            "\n",
            "6. **Synthesis:** Finally, the LLM combines the insights from the most promising leaves to arrive at a final answer.  It might not be a single answer, but rather a reasoned argument or a ranked list of possibilities.\n",
            "\n",
            "\n",
            "**In short:** A tree of thought is a way for LLMs to systematically explore different approaches to a problem, rather than relying on a single, potentially flawed, intuitive leap.  It makes their reasoning process more transparent and allows them to handle more complex tasks.  It's a way to visualize how an LLM breaks down a complex problem into smaller, manageable parts, analyzes them, and integrates the results to form a final output.\n",
            "\n"
          ]
        }
      ]
    },
    {
      "cell_type": "code",
      "source": [
        "# explore some questions with reasoning\n",
        "prompt = 'What is the major diagnosis for the patient? Use tree of thought to conclude and tell how you arrived'\n",
        "response = client.models.generate_content(\n",
        "  model=\"gemini-1.5-flash\",\n",
        "  contents=[\n",
        "      types.Part.from_bytes(\n",
        "        data=noteToProcess.encode('utf-8'),\n",
        "        mime_type='text/plain',\n",
        "      ),\n",
        "      prompt])\n",
        "Markdown(response.text)"
      ],
      "metadata": {
        "colab": {
          "base_uri": "https://localhost:8080/",
          "height": 319
        },
        "id": "B1ntSVSNDXmI",
        "outputId": "081acd50-db32-4737-81df-09e6989280f2"
      },
      "execution_count": 19,
      "outputs": [
        {
          "output_type": "execute_result",
          "data": {
            "text/plain": [
              "<IPython.core.display.Markdown object>"
            ],
            "text/markdown": "**Tree of Thought to Determine Major Diagnosis:**\n\n1. **Initial Symptoms:** The discharge summary begins by stating the patient presented with fever, dry cough, and dyspnea (shortness of breath).  These are common symptoms of various respiratory illnesses.\n\n2. **Diagnosis Confirmation:** The summary explicitly states the patient had \"moderate ARDS from COVID-19\".  ARDS is acute respiratory distress syndrome.\n\n3. **ARDS Cause:** The summary clarifies that the ARDS was caused by COVID-19.\n\n4. **Hospital Course Details:** The description of the hospital course focuses on managing the complications of ARDS – coughing fits leading to oxygen desaturation and dyspnea, requiring careful physiotherapy adjustments.\n\n5. **Clinical Outcome:** The patient's satisfactory progress and resolution of symptoms reinforce that the ARDS was successfully treated.\n\n6. **Discharge Location:** Discharge to a rehabilitation clinic further supports that the primary focus of care was addressing the lingering effects of ARDS.\n\n**Conclusion:**\n\nFollowing the tree of thought, the major diagnosis is **ARDS secondary to COVID-19**.  While COVID-19 was the underlying cause, the primary focus of treatment and the significant impact on the patient's health was the development of moderate ARDS. The discharge summary emphasizes the management and improvement of the ARDS, making it the major diagnosis described in the report.\n"
          },
          "metadata": {},
          "execution_count": 19
        }
      ]
    },
    {
      "cell_type": "code",
      "source": [
        "# Teach me the difference between chain of thought and tree of thought and use the data in notetoprocess variable to explain\n",
        "prompt = 'What is the difference between chain of thought and tree of thought and use the data in notetoprocess variable to explain'\n",
        "response = client.models.generate_content(\n",
        "  model=\"gemini-1.5-flash\",\n",
        "  contents=[\n",
        "      types.Part.from_bytes(\n",
        "        data=noteToProcess.encode('utf-8'),\n",
        "        mime_type='text/plain',\n",
        "      ),\n",
        "      prompt])\n",
        "Markdown(response.text)"
      ],
      "metadata": {
        "colab": {
          "base_uri": "https://localhost:8080/",
          "height": 279
        },
        "id": "c9CFEKhDDynx",
        "outputId": "a5dab531-11db-4db7-e034-4ebadfb4dc38"
      },
      "execution_count": 20,
      "outputs": [
        {
          "output_type": "execute_result",
          "data": {
            "text/plain": [
              "<IPython.core.display.Markdown object>"
            ],
            "text/markdown": "The provided discharge summary doesn't contain information suitable for illustrating the difference between Chain of Thought (CoT) and Tree of Thought (ToT) prompting methods in large language models.  CoT and ToT are techniques used to improve the reasoning capabilities of LLMs, not something that would be directly present in a patient's medical record.\n\nTo explain the difference:\n\n* **Chain of Thought (CoT):**  CoT prompting encourages the LLM to generate a step-by-step reasoning process to arrive at an answer.  It's like a linear sequence of thought.  For example, if asked \"What is 2 + 2 * 3?\", a CoT response might be: \"First, we multiply 2 by 3, which is 6. Then we add 2 to 6, resulting in 8.  Therefore, the answer is 8.\"\n\n* **Tree of Thought (ToT):** ToT expands on CoT by exploring multiple reasoning paths simultaneously.  It's like branching out from a central idea to consider various possibilities.  For the same math problem, a ToT approach might explore different order-of-operations possibilities, eventually converging on the correct answer by evaluating the likelihood and consistency of each path.  It considers several intermediate steps and evaluates which path seems most likely.\n\n\nThe patient's discharge summary describes their *clinical course* and *response to treatment*, not a reasoning process that an LLM would employ.  There's no chain or tree of thoughts present in the data; it's a narrative of events.  To use CoT or ToT, one would need a question that requires reasoning, and then an LLM would produce the chain or tree of thought to answer it.\n"
          },
          "metadata": {},
          "execution_count": 20
        }
      ]
    }
  ]
}